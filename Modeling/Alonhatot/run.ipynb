{
 "cells": [
  {
   "cell_type": "code",
   "execution_count": 1,
   "id": "99331c0f",
   "metadata": {},
   "outputs": [
    {
     "name": "stdout",
     "output_type": "stream",
     "text": [
      "Model saved to ../../Application/knn_model.joblib\n"
     ]
    }
   ],
   "source": [
    "!python export_model.py"
   ]
  },
  {
   "cell_type": "code",
   "execution_count": 8,
   "id": "7ea49cf5",
   "metadata": {},
   "outputs": [
    {
     "name": "stdout",
     "output_type": "stream",
     "text": [
      "Requirement already satisfied: pandas in c:\\users\\phuon\\anaconda3\\lib\\site-packages (2.0.3)\n",
      "Requirement already satisfied: numpy in c:\\users\\phuon\\anaconda3\\lib\\site-packages (1.26.4)\n",
      "Requirement already satisfied: scikit-learn in c:\\users\\phuon\\anaconda3\\lib\\site-packages (1.3.0)\n",
      "Requirement already satisfied: joblib in c:\\users\\phuon\\anaconda3\\lib\\site-packages (1.2.0)\n",
      "Requirement already satisfied: streamlit in c:\\users\\phuon\\anaconda3\\lib\\site-packages (1.45.1)\n",
      "Requirement already satisfied: python-dateutil>=2.8.2 in c:\\users\\phuon\\anaconda3\\lib\\site-packages (from pandas) (2.8.2)\n",
      "Requirement already satisfied: pytz>=2020.1 in c:\\users\\phuon\\anaconda3\\lib\\site-packages (from pandas) (2023.3.post1)\n",
      "Requirement already satisfied: tzdata>=2022.1 in c:\\users\\phuon\\anaconda3\\lib\\site-packages (from pandas) (2023.3)\n",
      "Requirement already satisfied: scipy>=1.5.0 in c:\\users\\phuon\\anaconda3\\lib\\site-packages (from scikit-learn) (1.11.1)\n",
      "Requirement already satisfied: threadpoolctl>=2.0.0 in c:\\users\\phuon\\anaconda3\\lib\\site-packages (from scikit-learn) (2.2.0)\n",
      "Requirement already satisfied: altair<6,>=4.0 in c:\\users\\phuon\\anaconda3\\lib\\site-packages (from streamlit) (5.5.0)\n",
      "Requirement already satisfied: blinker<2,>=1.5.0 in c:\\users\\phuon\\anaconda3\\lib\\site-packages (from streamlit) (1.9.0)\n",
      "Requirement already satisfied: cachetools<6,>=4.0 in c:\\users\\phuon\\anaconda3\\lib\\site-packages (from streamlit) (5.5.2)\n",
      "Requirement already satisfied: click<9,>=7.0 in c:\\users\\phuon\\anaconda3\\lib\\site-packages (from streamlit) (8.0.4)\n",
      "Requirement already satisfied: packaging<25,>=20 in c:\\users\\phuon\\anaconda3\\lib\\site-packages (from streamlit) (23.1)\n",
      "Requirement already satisfied: pillow<12,>=7.1.0 in c:\\users\\phuon\\anaconda3\\lib\\site-packages (from streamlit) (9.4.0)\n",
      "Requirement already satisfied: protobuf<7,>=3.20 in c:\\users\\phuon\\anaconda3\\lib\\site-packages (from streamlit) (4.25.7)\n",
      "Requirement already satisfied: pyarrow>=7.0 in c:\\users\\phuon\\anaconda3\\lib\\site-packages (from streamlit) (11.0.0)\n",
      "Requirement already satisfied: requests<3,>=2.27 in c:\\users\\phuon\\anaconda3\\lib\\site-packages (from streamlit) (2.31.0)\n",
      "Requirement already satisfied: tenacity<10,>=8.1.0 in c:\\users\\phuon\\anaconda3\\lib\\site-packages (from streamlit) (8.2.2)\n",
      "Requirement already satisfied: toml<2,>=0.10.1 in c:\\users\\phuon\\anaconda3\\lib\\site-packages (from streamlit) (0.10.2)\n",
      "Requirement already satisfied: typing-extensions<5,>=4.4.0 in c:\\users\\phuon\\anaconda3\\lib\\site-packages (from streamlit) (4.13.2)\n",
      "Requirement already satisfied: watchdog<7,>=2.1.5 in c:\\users\\phuon\\anaconda3\\lib\\site-packages (from streamlit) (2.1.6)\n",
      "Requirement already satisfied: gitpython!=3.1.19,<4,>=3.0.7 in c:\\users\\phuon\\anaconda3\\lib\\site-packages (from streamlit) (3.1.44)\n",
      "Requirement already satisfied: pydeck<1,>=0.8.0b4 in c:\\users\\phuon\\anaconda3\\lib\\site-packages (from streamlit) (0.9.1)\n",
      "Requirement already satisfied: tornado<7,>=6.0.3 in c:\\users\\phuon\\anaconda3\\lib\\site-packages (from streamlit) (6.3.2)\n",
      "Requirement already satisfied: jinja2 in c:\\users\\phuon\\anaconda3\\lib\\site-packages (from altair<6,>=4.0->streamlit) (3.1.2)\n",
      "Requirement already satisfied: jsonschema>=3.0 in c:\\users\\phuon\\anaconda3\\lib\\site-packages (from altair<6,>=4.0->streamlit) (4.17.3)\n",
      "Requirement already satisfied: narwhals>=1.14.2 in c:\\users\\phuon\\anaconda3\\lib\\site-packages (from altair<6,>=4.0->streamlit) (1.40.0)\n",
      "Requirement already satisfied: colorama in c:\\users\\phuon\\anaconda3\\lib\\site-packages (from click<9,>=7.0->streamlit) (0.4.6)\n",
      "Requirement already satisfied: gitdb<5,>=4.0.1 in c:\\users\\phuon\\anaconda3\\lib\\site-packages (from gitpython!=3.1.19,<4,>=3.0.7->streamlit) (4.0.12)\n",
      "Requirement already satisfied: six>=1.5 in c:\\users\\phuon\\anaconda3\\lib\\site-packages (from python-dateutil>=2.8.2->pandas) (1.16.0)\n",
      "Requirement already satisfied: charset-normalizer<4,>=2 in c:\\users\\phuon\\anaconda3\\lib\\site-packages (from requests<3,>=2.27->streamlit) (2.0.4)\n",
      "Requirement already satisfied: idna<4,>=2.5 in c:\\users\\phuon\\anaconda3\\lib\\site-packages (from requests<3,>=2.27->streamlit) (3.4)\n",
      "Requirement already satisfied: urllib3<3,>=1.21.1 in c:\\users\\phuon\\anaconda3\\lib\\site-packages (from requests<3,>=2.27->streamlit) (1.26.16)\n",
      "Requirement already satisfied: certifi>=2017.4.17 in c:\\users\\phuon\\anaconda3\\lib\\site-packages (from requests<3,>=2.27->streamlit) (2024.8.30)\n",
      "Requirement already satisfied: smmap<6,>=3.0.1 in c:\\users\\phuon\\anaconda3\\lib\\site-packages (from gitdb<5,>=4.0.1->gitpython!=3.1.19,<4,>=3.0.7->streamlit) (5.0.2)\n",
      "Requirement already satisfied: MarkupSafe>=2.0 in c:\\users\\phuon\\anaconda3\\lib\\site-packages (from jinja2->altair<6,>=4.0->streamlit) (2.1.1)\n",
      "Requirement already satisfied: attrs>=17.4.0 in c:\\users\\phuon\\anaconda3\\lib\\site-packages (from jsonschema>=3.0->altair<6,>=4.0->streamlit) (25.3.0)\n",
      "Requirement already satisfied: pyrsistent!=0.17.0,!=0.17.1,!=0.17.2,>=0.14.0 in c:\\users\\phuon\\anaconda3\\lib\\site-packages (from jsonschema>=3.0->altair<6,>=4.0->streamlit) (0.18.0)\n",
      "Note: you may need to restart the kernel to use updated packages.\n"
     ]
    },
    {
     "name": "stderr",
     "output_type": "stream",
     "text": [
      "DEPRECATION: Loading egg at c:\\users\\phuon\\anaconda3\\lib\\site-packages\\torchlight-1.0-py3.11.egg is deprecated. pip 23.3 will enforce this behaviour change. A possible replacement is to use pip for package installation..\n"
     ]
    }
   ],
   "source": [
    "%pip install pandas numpy scikit-learn joblib streamlit"
   ]
  },
  {
   "cell_type": "code",
   "execution_count": 7,
   "id": "2f907ae3",
   "metadata": {},
   "outputs": [
    {
     "name": "stdout",
     "output_type": "stream",
     "text": [
      "Created debug_model.py - run this to diagnose the model loading issue\n",
      "Created run_streamlit.py - run this to start the Streamlit app\n",
      "\n",
      "To debug the model loading issue, run:\n",
      "!python debug_model.py\n",
      "\n",
      "To run the Streamlit app from your notebook, run:\n",
      "!streamlit run app.py\n",
      "\n",
      "Make sure the model file (knn_model.joblib) is in the correct location!\n"
     ]
    }
   ],
   "source": [
    "# Create a debug script to help run the Streamlit app from a notebook\n",
    "\n",
    "def create_debug_script():\n",
    "    \"\"\"Create a debug script to help diagnose model loading issues\"\"\"\n",
    "    with open('debug_model.py', 'w') as f:\n",
    "        f.write(\"\"\"\n",
    "import joblib\n",
    "import os\n",
    "import pandas as pd\n",
    "\n",
    "# Check current directory\n",
    "print(\"Current working directory:\", os.getcwd())\n",
    "\n",
    "# Check if model file exists\n",
    "model_path = 'knn_model.joblib'\n",
    "print(f\"Model file exists: {os.path.exists(model_path)}\")\n",
    "\n",
    "# Try to load the model and examine it\n",
    "try:\n",
    "    model = joblib.load(model_path)\n",
    "    print(\"Model loaded successfully!\")\n",
    "    print(\"Model type:\", type(model))\n",
    "    \n",
    "    # Create sample input data with the same format as your app\n",
    "    sample_data = pd.DataFrame({\n",
    "        'area': [100],\n",
    "        'bedrooms': [2],\n",
    "        'floors': [3],\n",
    "        'bedroom_per_area': [0.02],\n",
    "        'is_main_road': [0],\n",
    "        'is_corner': [0],\n",
    "        'has_car_access': [0],\n",
    "        'ward_cat': ['A']  # Check if this should be a string or numeric value\n",
    "    })\n",
    "    \n",
    "    print(\"\\\\nSample input data:\")\n",
    "    print(sample_data)\n",
    "    \n",
    "    # Try a prediction\n",
    "    try:\n",
    "        prediction = model.predict(sample_data)\n",
    "        print(\"\\\\nPrediction successful!\")\n",
    "        print(\"Predicted price per m²:\", prediction[0])\n",
    "    except Exception as e:\n",
    "        print(f\"\\\\nError during prediction: {e}\")\n",
    "        print(\"This is the error you're seeing in your app\")\n",
    "        \n",
    "        # Try with ward_cat as numeric if it's currently string\n",
    "        if isinstance(sample_data['ward_cat'][0], str):\n",
    "            print(\"\\\\nTrying with numeric ward_cat...\")\n",
    "            ward_mapping = {'A': 0, 'B': 1, 'C': 2}\n",
    "            sample_data['ward_cat'] = sample_data['ward_cat'].map(ward_mapping)\n",
    "            try:\n",
    "                prediction = model.predict(sample_data)\n",
    "                print(\"Prediction successful with numeric ward_cat!\")\n",
    "                print(\"Predicted price per m²:\", prediction[0])\n",
    "                print(\"\\\\nFIX: You need to convert ward_cat to numeric in your app\")\n",
    "            except Exception as e:\n",
    "                print(f\"Still error with numeric ward_cat: {e}\")\n",
    "        \n",
    "except Exception as e:\n",
    "    print(f\"Error loading model: {e}\")\n",
    "\"\"\")\n",
    "    print(\"Created debug_model.py - run this to diagnose the model loading issue\")\n",
    "\n",
    "# Create a script to run the Streamlit app from the notebook\n",
    "def create_run_streamlit_script():\n",
    "    \"\"\"Create a script to run Streamlit from the notebook\"\"\"\n",
    "    with open('run_streamlit.py', 'w') as f:\n",
    "        f.write(\"\"\"\n",
    "import os\n",
    "import streamlit as st\n",
    "\n",
    "# Run the app in the notebook\n",
    "os.system('streamlit run app.py')\n",
    "\"\"\")\n",
    "    print(\"Created run_streamlit.py - run this to start the Streamlit app\")\n",
    "\n",
    "# Execute\n",
    "create_debug_script()\n",
    "create_run_streamlit_script()\n",
    "\n",
    "# Instructions for the user\n",
    "print(\"\\nTo debug the model loading issue, run:\")\n",
    "print(\"!python debug_model.py\")\n",
    "print(\"\\nTo run the Streamlit app from your notebook, run:\")\n",
    "print(\"!streamlit run app.py\")\n",
    "print(\"\\nMake sure the model file (knn_model.joblib) is in the correct location!\")"
   ]
  }
 ],
 "metadata": {
  "kernelspec": {
   "display_name": "base",
   "language": "python",
   "name": "python3"
  },
  "language_info": {
   "codemirror_mode": {
    "name": "ipython",
    "version": 3
   },
   "file_extension": ".py",
   "mimetype": "text/x-python",
   "name": "python",
   "nbconvert_exporter": "python",
   "pygments_lexer": "ipython3",
   "version": "3.11.5"
  }
 },
 "nbformat": 4,
 "nbformat_minor": 5
}
