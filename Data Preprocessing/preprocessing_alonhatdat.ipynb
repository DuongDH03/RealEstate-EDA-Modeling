{
 "cells": [
  {
   "cell_type": "markdown",
   "id": "e87ac2ae",
   "metadata": {},
   "source": [
    "# Alonhadat Data Preprocessing\n",
    "This notebook contains the steps to preprocess the alonhadat.csv dataset.\n",
    "The steps are derived from the exploration phase and focus on cleaning and transforming the data for modeling."
   ]
  },
  {
   "cell_type": "markdown",
   "id": "4c33c31d",
   "metadata": {},
   "source": [
    "## 1. Imports\n",
    "Import necessary libraries for data manipulation and regular expressions."
   ]
  },
  {
   "cell_type": "code",
   "execution_count": 1,
   "id": "8747c569",
   "metadata": {},
   "outputs": [],
   "source": [
    "import pandas as pd\n",
    "import numpy as np\n",
    "import re\n",
    "# from datetime import datetime # Import if date processing is added later\n",
    "# import warnings\n",
    "# warnings.filterwarnings('ignore') # Uncomment if needed"
   ]
  },
  {
   "cell_type": "markdown",
   "id": "c0f3ea91",
   "metadata": {},
   "source": [
    "## 2. Load Data\n",
    "Load the raw dataset."
   ]
  },
  {
   "cell_type": "code",
   "execution_count": 2,
   "id": "1a1e570d",
   "metadata": {},
   "outputs": [
    {
     "name": "stdout",
     "output_type": "stream",
     "text": [
      "Original DataFrame shape: (38960, 8)\n"
     ]
    },
    {
     "data": {
      "application/vnd.microsoft.datawrangler.viewer.v0+json": {
       "columns": [
        {
         "name": "index",
         "rawType": "int64",
         "type": "integer"
        },
        {
         "name": "address",
         "rawType": "object",
         "type": "string"
        },
        {
         "name": "area",
         "rawType": "object",
         "type": "string"
        },
        {
         "name": "bedrooms",
         "rawType": "object",
         "type": "string"
        },
        {
         "name": "date",
         "rawType": "object",
         "type": "string"
        },
        {
         "name": "floors",
         "rawType": "object",
         "type": "string"
        },
        {
         "name": "price",
         "rawType": "object",
         "type": "string"
        },
        {
         "name": "title",
         "rawType": "object",
         "type": "string"
        },
        {
         "name": "url",
         "rawType": "object",
         "type": "string"
        }
       ],
       "ref": "7300361e-eb7c-4693-80d8-8f6238721d8c",
       "rows": [
        [
         "0",
         "Đường Nguyễn Văn Cừ, Phường Gia Thụy, Quận Long Biên, Hà Nội",
         " 80 m\n2",
         "1 phòng ngủ",
         "Hôm nay",
         "1 lầu",
         " 7,5 tỷ",
         "🥇ĐẤT NGUYỄN VĂN CỪ 80M, MT8M, MẢNH ĐẤT RỘNG THOÁNG TRƯỚC SAU-3 BƯỚC RA ÔTÔ TRÁNH DỪNG ĐỖ",
         "https://alonhadat.com.vnhttps://alonhadat.com.vn/-dat-nguyen-van-cu-80m-mt8m-manh-dat-rong-thoang-truoc-sau-3-buoc-ra-oto-tranh-dung-do-16339761.html"
        ],
        [
         "1",
         "Đường Ngọc Lâm, Phường Ngọc Lâm, Quận Long Biên, Hà Nội",
         " 36 m\n2",
         "3 phòng ngủ",
         "Hôm nay",
         "6 lầu",
         " 8,65 tỷ",
         "🔥CÒN DUY NHẤT 1 CĂN GIÁ RẺ, NGỌC LÂM 36M, 6T GIÁ CHÀO 8,x TỶ. LÔ GÓC, Ô TÔ, THANG MÁY, NG",
         "https://alonhadat.com.vnhttps://alonhadat.com.vn/-con-duy-nhat-1-can-gia-re-ngoc-lam-36m-6t-gia-chao-8-x-ty-lo-goc-o-to-thang-may-ng-16307153.html"
        ],
        [
         "2",
         "Đường Ngô Gia Tự, Phường Đức Giang, Quận Long Biên, Hà Nội",
         " 56 m\n2",
         "1 phòng ngủ",
         "Hôm nay",
         "1 lầu",
         " 15,5 tỷ",
         "👉MẶT PHỐ, NGÔ GIA TỰ, 56M, MT4M, VỈA HÈ ĐÁ BÓNG, KINH DOANH ĐA DẠNG, DÒNG TIỀN ỔN ĐỊNH.",
         "https://alonhadat.com.vnhttps://alonhadat.com.vn/-mat-pho-ngo-gia-tu-56m-mt4m-via-he-da-bong-kinh-doanh-da-dang-dong-tien-on-dinh--16310864.html"
        ],
        [
         "3",
         "Đường Phúc Lợi, Phường Phúc Lợi, Quận Long Biên, Hà Nội",
         " 32 m\n2",
         "3 phòng ngủ",
         "Hôm nay",
         "5 lầu",
         " 5,2 tỷ",
         "🥇CĂN DUY NHẤT, NGÕ THÔNG, Ô TÔ , LÔ GÓC, PHÚC LỢI 32M,5T, MT4,6M MÀ GIÁ 5,x TỶ(x NHƯ KHÔN",
         "https://alonhadat.com.vnhttps://alonhadat.com.vn/-can-duy-nhat-ngo-thong-o-to-lo-goc-phuc-loi-32m-5t-mt4-6m-ma-gia-5-x-ty-x-nhu-khon-16314337.html"
        ],
        [
         "4",
         "Phố Lệ Mật, Phường Việt Hưng, Quận Long Biên, Hà Nội",
         " 58 m\n2",
         "3 phòng ngủ",
         "Hôm nay",
         "3 lầu",
         " 7 tỷ",
         "🏡VIỆT HƯNG, DIỆN TÍCH RỘNG 58m, 3T, MT5m GIÁ CHÀO 7TỶ - Ô TÔ ĐỖ CỔNG.",
         "https://alonhadat.com.vnhttps://alonhadat.com.vn/-viet-hung-dien-tich-rong-58m-3t-mt5m-gia-chao-7ty-o-to-do-cong--16328591.html"
        ]
       ],
       "shape": {
        "columns": 8,
        "rows": 5
       }
      },
      "text/html": [
       "<div>\n",
       "<style scoped>\n",
       "    .dataframe tbody tr th:only-of-type {\n",
       "        vertical-align: middle;\n",
       "    }\n",
       "\n",
       "    .dataframe tbody tr th {\n",
       "        vertical-align: top;\n",
       "    }\n",
       "\n",
       "    .dataframe thead th {\n",
       "        text-align: right;\n",
       "    }\n",
       "</style>\n",
       "<table border=\"1\" class=\"dataframe\">\n",
       "  <thead>\n",
       "    <tr style=\"text-align: right;\">\n",
       "      <th></th>\n",
       "      <th>address</th>\n",
       "      <th>area</th>\n",
       "      <th>bedrooms</th>\n",
       "      <th>date</th>\n",
       "      <th>floors</th>\n",
       "      <th>price</th>\n",
       "      <th>title</th>\n",
       "      <th>url</th>\n",
       "    </tr>\n",
       "  </thead>\n",
       "  <tbody>\n",
       "    <tr>\n",
       "      <th>0</th>\n",
       "      <td>Đường Nguyễn Văn Cừ, Phường Gia Thụy, Quận Lon...</td>\n",
       "      <td>80 m\\n2</td>\n",
       "      <td>1 phòng ngủ</td>\n",
       "      <td>Hôm nay</td>\n",
       "      <td>1 lầu</td>\n",
       "      <td>7,5 tỷ</td>\n",
       "      <td>🥇ĐẤT NGUYỄN VĂN CỪ 80M, MT8M, MẢNH ĐẤT RỘNG TH...</td>\n",
       "      <td>https://alonhadat.com.vnhttps://alonhadat.com....</td>\n",
       "    </tr>\n",
       "    <tr>\n",
       "      <th>1</th>\n",
       "      <td>Đường Ngọc Lâm, Phường Ngọc Lâm, Quận Long Biê...</td>\n",
       "      <td>36 m\\n2</td>\n",
       "      <td>3 phòng ngủ</td>\n",
       "      <td>Hôm nay</td>\n",
       "      <td>6 lầu</td>\n",
       "      <td>8,65 tỷ</td>\n",
       "      <td>🔥CÒN DUY NHẤT 1 CĂN GIÁ RẺ, NGỌC LÂM 36M, 6T G...</td>\n",
       "      <td>https://alonhadat.com.vnhttps://alonhadat.com....</td>\n",
       "    </tr>\n",
       "    <tr>\n",
       "      <th>2</th>\n",
       "      <td>Đường Ngô Gia Tự, Phường Đức Giang, Quận Long ...</td>\n",
       "      <td>56 m\\n2</td>\n",
       "      <td>1 phòng ngủ</td>\n",
       "      <td>Hôm nay</td>\n",
       "      <td>1 lầu</td>\n",
       "      <td>15,5 tỷ</td>\n",
       "      <td>👉MẶT PHỐ, NGÔ GIA TỰ, 56M, MT4M, VỈA HÈ ĐÁ BÓN...</td>\n",
       "      <td>https://alonhadat.com.vnhttps://alonhadat.com....</td>\n",
       "    </tr>\n",
       "    <tr>\n",
       "      <th>3</th>\n",
       "      <td>Đường Phúc Lợi, Phường Phúc Lợi, Quận Long Biê...</td>\n",
       "      <td>32 m\\n2</td>\n",
       "      <td>3 phòng ngủ</td>\n",
       "      <td>Hôm nay</td>\n",
       "      <td>5 lầu</td>\n",
       "      <td>5,2 tỷ</td>\n",
       "      <td>🥇CĂN DUY NHẤT, NGÕ THÔNG, Ô TÔ , LÔ GÓC, PHÚC ...</td>\n",
       "      <td>https://alonhadat.com.vnhttps://alonhadat.com....</td>\n",
       "    </tr>\n",
       "    <tr>\n",
       "      <th>4</th>\n",
       "      <td>Phố Lệ Mật, Phường Việt Hưng, Quận Long Biên, ...</td>\n",
       "      <td>58 m\\n2</td>\n",
       "      <td>3 phòng ngủ</td>\n",
       "      <td>Hôm nay</td>\n",
       "      <td>3 lầu</td>\n",
       "      <td>7 tỷ</td>\n",
       "      <td>🏡VIỆT HƯNG, DIỆN TÍCH RỘNG 58m, 3T, MT5m GIÁ C...</td>\n",
       "      <td>https://alonhadat.com.vnhttps://alonhadat.com....</td>\n",
       "    </tr>\n",
       "  </tbody>\n",
       "</table>\n",
       "</div>"
      ],
      "text/plain": [
       "                                             address      area     bedrooms  \\\n",
       "0  Đường Nguyễn Văn Cừ, Phường Gia Thụy, Quận Lon...   80 m\\n2  1 phòng ngủ   \n",
       "1  Đường Ngọc Lâm, Phường Ngọc Lâm, Quận Long Biê...   36 m\\n2  3 phòng ngủ   \n",
       "2  Đường Ngô Gia Tự, Phường Đức Giang, Quận Long ...   56 m\\n2  1 phòng ngủ   \n",
       "3  Đường Phúc Lợi, Phường Phúc Lợi, Quận Long Biê...   32 m\\n2  3 phòng ngủ   \n",
       "4  Phố Lệ Mật, Phường Việt Hưng, Quận Long Biên, ...   58 m\\n2  3 phòng ngủ   \n",
       "\n",
       "      date floors     price  \\\n",
       "0  Hôm nay  1 lầu    7,5 tỷ   \n",
       "1  Hôm nay  6 lầu   8,65 tỷ   \n",
       "2  Hôm nay  1 lầu   15,5 tỷ   \n",
       "3  Hôm nay  5 lầu    5,2 tỷ   \n",
       "4  Hôm nay  3 lầu      7 tỷ   \n",
       "\n",
       "                                               title  \\\n",
       "0  🥇ĐẤT NGUYỄN VĂN CỪ 80M, MT8M, MẢNH ĐẤT RỘNG TH...   \n",
       "1  🔥CÒN DUY NHẤT 1 CĂN GIÁ RẺ, NGỌC LÂM 36M, 6T G...   \n",
       "2  👉MẶT PHỐ, NGÔ GIA TỰ, 56M, MT4M, VỈA HÈ ĐÁ BÓN...   \n",
       "3  🥇CĂN DUY NHẤT, NGÕ THÔNG, Ô TÔ , LÔ GÓC, PHÚC ...   \n",
       "4  🏡VIỆT HƯNG, DIỆN TÍCH RỘNG 58m, 3T, MT5m GIÁ C...   \n",
       "\n",
       "                                                 url  \n",
       "0  https://alonhadat.com.vnhttps://alonhadat.com....  \n",
       "1  https://alonhadat.com.vnhttps://alonhadat.com....  \n",
       "2  https://alonhadat.com.vnhttps://alonhadat.com....  \n",
       "3  https://alonhadat.com.vnhttps://alonhadat.com....  \n",
       "4  https://alonhadat.com.vnhttps://alonhadat.com....  "
      ]
     },
     "execution_count": 2,
     "metadata": {},
     "output_type": "execute_result"
    }
   ],
   "source": [
    "df = pd.read_csv('../Data Collection/Datasets/alonhadat.com/raw/alonhadat.csv')\n",
    "print(\"Original DataFrame shape:\", df.shape)\n",
    "df.head()"
   ]
  },
  {
   "cell_type": "markdown",
   "id": "07ca2e6b",
   "metadata": {},
   "source": [
    "## 3. Initial Cleaning and Column Selection\n",
    "Select relevant columns for the analysis and remove duplicate rows."
   ]
  },
  {
   "cell_type": "code",
   "execution_count": 3,
   "id": "51b117a2",
   "metadata": {},
   "outputs": [
    {
     "name": "stdout",
     "output_type": "stream",
     "text": [
      "Shape after column selection: (38960, 7)\n",
      "Number of duplicate rows: 15325\n",
      "Duplicates removed. New shape: (23635, 7)\n"
     ]
    },
    {
     "data": {
      "application/vnd.microsoft.datawrangler.viewer.v0+json": {
       "columns": [
        {
         "name": "index",
         "rawType": "int64",
         "type": "integer"
        },
        {
         "name": "address",
         "rawType": "object",
         "type": "string"
        },
        {
         "name": "area",
         "rawType": "object",
         "type": "string"
        },
        {
         "name": "bedrooms",
         "rawType": "object",
         "type": "string"
        },
        {
         "name": "date",
         "rawType": "object",
         "type": "string"
        },
        {
         "name": "floors",
         "rawType": "object",
         "type": "string"
        },
        {
         "name": "price",
         "rawType": "object",
         "type": "string"
        },
        {
         "name": "title",
         "rawType": "object",
         "type": "string"
        }
       ],
       "ref": "1bf37f8d-ca14-4275-a0a9-44b24bca11a2",
       "rows": [
        [
         "0",
         "Đường Nguyễn Văn Cừ, Phường Gia Thụy, Quận Long Biên, Hà Nội",
         " 80 m\n2",
         "1 phòng ngủ",
         "Hôm nay",
         "1 lầu",
         " 7,5 tỷ",
         "🥇ĐẤT NGUYỄN VĂN CỪ 80M, MT8M, MẢNH ĐẤT RỘNG THOÁNG TRƯỚC SAU-3 BƯỚC RA ÔTÔ TRÁNH DỪNG ĐỖ"
        ],
        [
         "1",
         "Đường Ngọc Lâm, Phường Ngọc Lâm, Quận Long Biên, Hà Nội",
         " 36 m\n2",
         "3 phòng ngủ",
         "Hôm nay",
         "6 lầu",
         " 8,65 tỷ",
         "🔥CÒN DUY NHẤT 1 CĂN GIÁ RẺ, NGỌC LÂM 36M, 6T GIÁ CHÀO 8,x TỶ. LÔ GÓC, Ô TÔ, THANG MÁY, NG"
        ],
        [
         "2",
         "Đường Ngô Gia Tự, Phường Đức Giang, Quận Long Biên, Hà Nội",
         " 56 m\n2",
         "1 phòng ngủ",
         "Hôm nay",
         "1 lầu",
         " 15,5 tỷ",
         "👉MẶT PHỐ, NGÔ GIA TỰ, 56M, MT4M, VỈA HÈ ĐÁ BÓNG, KINH DOANH ĐA DẠNG, DÒNG TIỀN ỔN ĐỊNH."
        ],
        [
         "3",
         "Đường Phúc Lợi, Phường Phúc Lợi, Quận Long Biên, Hà Nội",
         " 32 m\n2",
         "3 phòng ngủ",
         "Hôm nay",
         "5 lầu",
         " 5,2 tỷ",
         "🥇CĂN DUY NHẤT, NGÕ THÔNG, Ô TÔ , LÔ GÓC, PHÚC LỢI 32M,5T, MT4,6M MÀ GIÁ 5,x TỶ(x NHƯ KHÔN"
        ],
        [
         "4",
         "Phố Lệ Mật, Phường Việt Hưng, Quận Long Biên, Hà Nội",
         " 58 m\n2",
         "3 phòng ngủ",
         "Hôm nay",
         "3 lầu",
         " 7 tỷ",
         "🏡VIỆT HƯNG, DIỆN TÍCH RỘNG 58m, 3T, MT5m GIÁ CHÀO 7TỶ - Ô TÔ ĐỖ CỔNG."
        ]
       ],
       "shape": {
        "columns": 7,
        "rows": 5
       }
      },
      "text/html": [
       "<div>\n",
       "<style scoped>\n",
       "    .dataframe tbody tr th:only-of-type {\n",
       "        vertical-align: middle;\n",
       "    }\n",
       "\n",
       "    .dataframe tbody tr th {\n",
       "        vertical-align: top;\n",
       "    }\n",
       "\n",
       "    .dataframe thead th {\n",
       "        text-align: right;\n",
       "    }\n",
       "</style>\n",
       "<table border=\"1\" class=\"dataframe\">\n",
       "  <thead>\n",
       "    <tr style=\"text-align: right;\">\n",
       "      <th></th>\n",
       "      <th>address</th>\n",
       "      <th>area</th>\n",
       "      <th>bedrooms</th>\n",
       "      <th>date</th>\n",
       "      <th>floors</th>\n",
       "      <th>price</th>\n",
       "      <th>title</th>\n",
       "    </tr>\n",
       "  </thead>\n",
       "  <tbody>\n",
       "    <tr>\n",
       "      <th>0</th>\n",
       "      <td>Đường Nguyễn Văn Cừ, Phường Gia Thụy, Quận Lon...</td>\n",
       "      <td>80 m\\n2</td>\n",
       "      <td>1 phòng ngủ</td>\n",
       "      <td>Hôm nay</td>\n",
       "      <td>1 lầu</td>\n",
       "      <td>7,5 tỷ</td>\n",
       "      <td>🥇ĐẤT NGUYỄN VĂN CỪ 80M, MT8M, MẢNH ĐẤT RỘNG TH...</td>\n",
       "    </tr>\n",
       "    <tr>\n",
       "      <th>1</th>\n",
       "      <td>Đường Ngọc Lâm, Phường Ngọc Lâm, Quận Long Biê...</td>\n",
       "      <td>36 m\\n2</td>\n",
       "      <td>3 phòng ngủ</td>\n",
       "      <td>Hôm nay</td>\n",
       "      <td>6 lầu</td>\n",
       "      <td>8,65 tỷ</td>\n",
       "      <td>🔥CÒN DUY NHẤT 1 CĂN GIÁ RẺ, NGỌC LÂM 36M, 6T G...</td>\n",
       "    </tr>\n",
       "    <tr>\n",
       "      <th>2</th>\n",
       "      <td>Đường Ngô Gia Tự, Phường Đức Giang, Quận Long ...</td>\n",
       "      <td>56 m\\n2</td>\n",
       "      <td>1 phòng ngủ</td>\n",
       "      <td>Hôm nay</td>\n",
       "      <td>1 lầu</td>\n",
       "      <td>15,5 tỷ</td>\n",
       "      <td>👉MẶT PHỐ, NGÔ GIA TỰ, 56M, MT4M, VỈA HÈ ĐÁ BÓN...</td>\n",
       "    </tr>\n",
       "    <tr>\n",
       "      <th>3</th>\n",
       "      <td>Đường Phúc Lợi, Phường Phúc Lợi, Quận Long Biê...</td>\n",
       "      <td>32 m\\n2</td>\n",
       "      <td>3 phòng ngủ</td>\n",
       "      <td>Hôm nay</td>\n",
       "      <td>5 lầu</td>\n",
       "      <td>5,2 tỷ</td>\n",
       "      <td>🥇CĂN DUY NHẤT, NGÕ THÔNG, Ô TÔ , LÔ GÓC, PHÚC ...</td>\n",
       "    </tr>\n",
       "    <tr>\n",
       "      <th>4</th>\n",
       "      <td>Phố Lệ Mật, Phường Việt Hưng, Quận Long Biên, ...</td>\n",
       "      <td>58 m\\n2</td>\n",
       "      <td>3 phòng ngủ</td>\n",
       "      <td>Hôm nay</td>\n",
       "      <td>3 lầu</td>\n",
       "      <td>7 tỷ</td>\n",
       "      <td>🏡VIỆT HƯNG, DIỆN TÍCH RỘNG 58m, 3T, MT5m GIÁ C...</td>\n",
       "    </tr>\n",
       "  </tbody>\n",
       "</table>\n",
       "</div>"
      ],
      "text/plain": [
       "                                             address      area     bedrooms  \\\n",
       "0  Đường Nguyễn Văn Cừ, Phường Gia Thụy, Quận Lon...   80 m\\n2  1 phòng ngủ   \n",
       "1  Đường Ngọc Lâm, Phường Ngọc Lâm, Quận Long Biê...   36 m\\n2  3 phòng ngủ   \n",
       "2  Đường Ngô Gia Tự, Phường Đức Giang, Quận Long ...   56 m\\n2  1 phòng ngủ   \n",
       "3  Đường Phúc Lợi, Phường Phúc Lợi, Quận Long Biê...   32 m\\n2  3 phòng ngủ   \n",
       "4  Phố Lệ Mật, Phường Việt Hưng, Quận Long Biên, ...   58 m\\n2  3 phòng ngủ   \n",
       "\n",
       "      date floors     price                                              title  \n",
       "0  Hôm nay  1 lầu    7,5 tỷ  🥇ĐẤT NGUYỄN VĂN CỪ 80M, MT8M, MẢNH ĐẤT RỘNG TH...  \n",
       "1  Hôm nay  6 lầu   8,65 tỷ  🔥CÒN DUY NHẤT 1 CĂN GIÁ RẺ, NGỌC LÂM 36M, 6T G...  \n",
       "2  Hôm nay  1 lầu   15,5 tỷ  👉MẶT PHỐ, NGÔ GIA TỰ, 56M, MT4M, VỈA HÈ ĐÁ BÓN...  \n",
       "3  Hôm nay  5 lầu    5,2 tỷ  🥇CĂN DUY NHẤT, NGÕ THÔNG, Ô TÔ , LÔ GÓC, PHÚC ...  \n",
       "4  Hôm nay  3 lầu      7 tỷ  🏡VIỆT HƯNG, DIỆN TÍCH RỘNG 58m, 3T, MT5m GIÁ C...  "
      ]
     },
     "execution_count": 3,
     "metadata": {},
     "output_type": "execute_result"
    }
   ],
   "source": [
    "# Choosing relevant columns\n",
    "df = df[['address', 'area', 'bedrooms', 'date', 'floors', 'price', 'title']]\n",
    "print(\"Shape after column selection:\", df.shape)\n",
    "\n",
    "# Check for duplicates\n",
    "duplicates = df.duplicated().sum()\n",
    "print(f\"Number of duplicate rows: {duplicates}\")\n",
    "\n",
    "if duplicates > 0:\n",
    "    df = df.drop_duplicates()\n",
    "    print(f\"Duplicates removed. New shape: {df.shape}\")\n",
    "df.head()"
   ]
  },
  {
   "cell_type": "markdown",
   "id": "a0d3c6c2",
   "metadata": {},
   "source": [
    "## 4. Address Processing\n",
    "Extract structured information (road, ward, district) from the 'address' column and create categorical features."
   ]
  },
  {
   "cell_type": "code",
   "execution_count": 4,
   "id": "8be626c5",
   "metadata": {},
   "outputs": [
    {
     "name": "stdout",
     "output_type": "stream",
     "text": [
      "Address components extracted and categorical codes created.\n"
     ]
    },
    {
     "data": {
      "application/vnd.microsoft.datawrangler.viewer.v0+json": {
       "columns": [
        {
         "name": "index",
         "rawType": "int64",
         "type": "integer"
        },
        {
         "name": "address",
         "rawType": "object",
         "type": "string"
        },
        {
         "name": "road",
         "rawType": "object",
         "type": "string"
        },
        {
         "name": "ward",
         "rawType": "object",
         "type": "string"
        },
        {
         "name": "district",
         "rawType": "object",
         "type": "string"
        },
        {
         "name": "address_complete",
         "rawType": "int64",
         "type": "integer"
        },
        {
         "name": "road_cat",
         "rawType": "int16",
         "type": "integer"
        },
        {
         "name": "ward_cat",
         "rawType": "int16",
         "type": "integer"
        },
        {
         "name": "district_cat",
         "rawType": "int8",
         "type": "integer"
        }
       ],
       "ref": "f12c51ac-3f2b-4772-b961-9522e325b893",
       "rows": [
        [
         "0",
         "Đường Nguyễn Văn Cừ, Phường Gia Thụy, Quận Long Biên, Hà Nội",
         "Nguyễn Văn Cừ",
         "Gia Thụy",
         "Long Biên",
         "1",
         "564",
         "54",
         "11"
        ],
        [
         "1",
         "Đường Ngọc Lâm, Phường Ngọc Lâm, Quận Long Biên, Hà Nội",
         "Ngọc Lâm",
         "Ngọc Lâm",
         "Long Biên",
         "1",
         "603",
         "157",
         "11"
        ],
        [
         "2",
         "Đường Ngô Gia Tự, Phường Đức Giang, Quận Long Biên, Hà Nội",
         "Ngô Gia Tự",
         "Đức Giang",
         "Long Biên",
         "1",
         "587",
         "390",
         "11"
        ],
        [
         "3",
         "Đường Phúc Lợi, Phường Phúc Lợi, Quận Long Biên, Hà Nội",
         "Phúc Lợi",
         "Phúc Lợi",
         "Long Biên",
         "1",
         "667",
         "193",
         "11"
        ],
        [
         "4",
         "Phố Lệ Mật, Phường Việt Hưng, Quận Long Biên, Hà Nội",
         "Lệ Mật",
         "Việt Hưng",
         "Long Biên",
         "1",
         "445",
         "313",
         "11"
        ]
       ],
       "shape": {
        "columns": 8,
        "rows": 5
       }
      },
      "text/html": [
       "<div>\n",
       "<style scoped>\n",
       "    .dataframe tbody tr th:only-of-type {\n",
       "        vertical-align: middle;\n",
       "    }\n",
       "\n",
       "    .dataframe tbody tr th {\n",
       "        vertical-align: top;\n",
       "    }\n",
       "\n",
       "    .dataframe thead th {\n",
       "        text-align: right;\n",
       "    }\n",
       "</style>\n",
       "<table border=\"1\" class=\"dataframe\">\n",
       "  <thead>\n",
       "    <tr style=\"text-align: right;\">\n",
       "      <th></th>\n",
       "      <th>address</th>\n",
       "      <th>road</th>\n",
       "      <th>ward</th>\n",
       "      <th>district</th>\n",
       "      <th>address_complete</th>\n",
       "      <th>road_cat</th>\n",
       "      <th>ward_cat</th>\n",
       "      <th>district_cat</th>\n",
       "    </tr>\n",
       "  </thead>\n",
       "  <tbody>\n",
       "    <tr>\n",
       "      <th>0</th>\n",
       "      <td>Đường Nguyễn Văn Cừ, Phường Gia Thụy, Quận Lon...</td>\n",
       "      <td>Nguyễn Văn Cừ</td>\n",
       "      <td>Gia Thụy</td>\n",
       "      <td>Long Biên</td>\n",
       "      <td>1</td>\n",
       "      <td>564</td>\n",
       "      <td>54</td>\n",
       "      <td>11</td>\n",
       "    </tr>\n",
       "    <tr>\n",
       "      <th>1</th>\n",
       "      <td>Đường Ngọc Lâm, Phường Ngọc Lâm, Quận Long Biê...</td>\n",
       "      <td>Ngọc Lâm</td>\n",
       "      <td>Ngọc Lâm</td>\n",
       "      <td>Long Biên</td>\n",
       "      <td>1</td>\n",
       "      <td>603</td>\n",
       "      <td>157</td>\n",
       "      <td>11</td>\n",
       "    </tr>\n",
       "    <tr>\n",
       "      <th>2</th>\n",
       "      <td>Đường Ngô Gia Tự, Phường Đức Giang, Quận Long ...</td>\n",
       "      <td>Ngô Gia Tự</td>\n",
       "      <td>Đức Giang</td>\n",
       "      <td>Long Biên</td>\n",
       "      <td>1</td>\n",
       "      <td>587</td>\n",
       "      <td>390</td>\n",
       "      <td>11</td>\n",
       "    </tr>\n",
       "    <tr>\n",
       "      <th>3</th>\n",
       "      <td>Đường Phúc Lợi, Phường Phúc Lợi, Quận Long Biê...</td>\n",
       "      <td>Phúc Lợi</td>\n",
       "      <td>Phúc Lợi</td>\n",
       "      <td>Long Biên</td>\n",
       "      <td>1</td>\n",
       "      <td>667</td>\n",
       "      <td>193</td>\n",
       "      <td>11</td>\n",
       "    </tr>\n",
       "    <tr>\n",
       "      <th>4</th>\n",
       "      <td>Phố Lệ Mật, Phường Việt Hưng, Quận Long Biên, ...</td>\n",
       "      <td>Lệ Mật</td>\n",
       "      <td>Việt Hưng</td>\n",
       "      <td>Long Biên</td>\n",
       "      <td>1</td>\n",
       "      <td>445</td>\n",
       "      <td>313</td>\n",
       "      <td>11</td>\n",
       "    </tr>\n",
       "  </tbody>\n",
       "</table>\n",
       "</div>"
      ],
      "text/plain": [
       "                                             address           road  \\\n",
       "0  Đường Nguyễn Văn Cừ, Phường Gia Thụy, Quận Lon...  Nguyễn Văn Cừ   \n",
       "1  Đường Ngọc Lâm, Phường Ngọc Lâm, Quận Long Biê...       Ngọc Lâm   \n",
       "2  Đường Ngô Gia Tự, Phường Đức Giang, Quận Long ...     Ngô Gia Tự   \n",
       "3  Đường Phúc Lợi, Phường Phúc Lợi, Quận Long Biê...       Phúc Lợi   \n",
       "4  Phố Lệ Mật, Phường Việt Hưng, Quận Long Biên, ...         Lệ Mật   \n",
       "\n",
       "        ward   district  address_complete  road_cat  ward_cat  district_cat  \n",
       "0   Gia Thụy  Long Biên                 1       564        54            11  \n",
       "1   Ngọc Lâm  Long Biên                 1       603       157            11  \n",
       "2  Đức Giang  Long Biên                 1       587       390            11  \n",
       "3   Phúc Lợi  Long Biên                 1       667       193            11  \n",
       "4  Việt Hưng  Long Biên                 1       445       313            11  "
      ]
     },
     "execution_count": 4,
     "metadata": {},
     "output_type": "execute_result"
    }
   ],
   "source": [
    "# Function to extract road, ward, and district from address\n",
    "def extract_address_components(address):\n",
    "    road, ward, district = None, None, None\n",
    "    if isinstance(address, str):\n",
    "        road_pattern = r'(?:Đường|Phố|Ngõ|Hẻm|Đại lộ|Tỉnh Lộ|Quốc lộ|QL|TL)\\s+([^,]+)'\n",
    "        ward_pattern = r'(?:Phường|Xã|Thị trấn|P\\.|X\\.|TT\\.)\\s+([^,]+)'\n",
    "        district_pattern = r'(?:Quận|Huyện|Thị xã|Thành phố|Q\\.|H\\.)\\s+([^,\\.]+)'\n",
    "        \n",
    "        road_match = re.search(road_pattern, address, re.IGNORECASE)\n",
    "        ward_match = re.search(ward_pattern, address, re.IGNORECASE)\n",
    "        district_match = re.search(district_pattern, address, re.IGNORECASE)\n",
    "        \n",
    "        if road_match:\n",
    "            road = road_match.group(1).strip()\n",
    "        if ward_match:\n",
    "            ward = ward_match.group(1).strip()\n",
    "        if district_match:\n",
    "            district = district_match.group(1).strip()\n",
    "            \n",
    "    return road, ward, district\n",
    "\n",
    "# Apply the function to create new columns\n",
    "df[['road', 'ward', 'district']] = df['address'].apply(\n",
    "    lambda x: pd.Series(extract_address_components(x))\n",
    ")\n",
    "\n",
    "# Create a column for complete extraction\n",
    "df['address_complete'] = df[['road', 'ward', 'district']].notnull().all(axis=1).astype(int)\n",
    "\n",
    "# Convert address components to categorical codes\n",
    "df['road_cat'] = df['road'].astype('category').cat.codes\n",
    "df['ward_cat'] = df['ward'].astype('category').cat.codes\n",
    "df['district_cat'] = df['district'].astype('category').cat.codes\n",
    "\n",
    "print(\"Address components extracted and categorical codes created.\")\n",
    "df[['address', 'road', 'ward', 'district', 'address_complete', 'road_cat', 'ward_cat', 'district_cat']].head()"
   ]
  },
  {
   "cell_type": "markdown",
   "id": "236acf08",
   "metadata": {},
   "source": [
    "## 5. Numeric Feature Conversion\n",
    "Convert 'area', 'bedrooms', and 'floors' columns to numeric types, handling potential errors."
   ]
  },
  {
   "cell_type": "code",
   "execution_count": 5,
   "id": "fd7aeac2",
   "metadata": {},
   "outputs": [
    {
     "name": "stdout",
     "output_type": "stream",
     "text": [
      "Numeric features converted.\n",
      "<class 'pandas.core.frame.DataFrame'>\n",
      "Index: 23635 entries, 0 to 38959\n",
      "Data columns (total 3 columns):\n",
      " #   Column    Non-Null Count  Dtype\n",
      "---  ------    --------------  -----\n",
      " 0   area      23635 non-null  int64\n",
      " 1   bedrooms  20260 non-null  Int64\n",
      " 2   floors    20386 non-null  Int64\n",
      "dtypes: Int64(2), int64(1)\n",
      "memory usage: 784.8 KB\n"
     ]
    },
    {
     "data": {
      "application/vnd.microsoft.datawrangler.viewer.v0+json": {
       "columns": [
        {
         "name": "index",
         "rawType": "int64",
         "type": "integer"
        },
        {
         "name": "area",
         "rawType": "int64",
         "type": "integer"
        },
        {
         "name": "bedrooms",
         "rawType": "Int64",
         "type": "integer"
        },
        {
         "name": "floors",
         "rawType": "Int64",
         "type": "integer"
        }
       ],
       "ref": "a9ece861-62f3-4500-86b5-2ed55337b289",
       "rows": [
        [
         "0",
         "80",
         "1",
         "1"
        ],
        [
         "1",
         "36",
         "3",
         "6"
        ],
        [
         "2",
         "56",
         "1",
         "1"
        ],
        [
         "3",
         "32",
         "3",
         "5"
        ],
        [
         "4",
         "58",
         "3",
         "3"
        ]
       ],
       "shape": {
        "columns": 3,
        "rows": 5
       }
      },
      "text/html": [
       "<div>\n",
       "<style scoped>\n",
       "    .dataframe tbody tr th:only-of-type {\n",
       "        vertical-align: middle;\n",
       "    }\n",
       "\n",
       "    .dataframe tbody tr th {\n",
       "        vertical-align: top;\n",
       "    }\n",
       "\n",
       "    .dataframe thead th {\n",
       "        text-align: right;\n",
       "    }\n",
       "</style>\n",
       "<table border=\"1\" class=\"dataframe\">\n",
       "  <thead>\n",
       "    <tr style=\"text-align: right;\">\n",
       "      <th></th>\n",
       "      <th>area</th>\n",
       "      <th>bedrooms</th>\n",
       "      <th>floors</th>\n",
       "    </tr>\n",
       "  </thead>\n",
       "  <tbody>\n",
       "    <tr>\n",
       "      <th>0</th>\n",
       "      <td>80</td>\n",
       "      <td>1</td>\n",
       "      <td>1</td>\n",
       "    </tr>\n",
       "    <tr>\n",
       "      <th>1</th>\n",
       "      <td>36</td>\n",
       "      <td>3</td>\n",
       "      <td>6</td>\n",
       "    </tr>\n",
       "    <tr>\n",
       "      <th>2</th>\n",
       "      <td>56</td>\n",
       "      <td>1</td>\n",
       "      <td>1</td>\n",
       "    </tr>\n",
       "    <tr>\n",
       "      <th>3</th>\n",
       "      <td>32</td>\n",
       "      <td>3</td>\n",
       "      <td>5</td>\n",
       "    </tr>\n",
       "    <tr>\n",
       "      <th>4</th>\n",
       "      <td>58</td>\n",
       "      <td>3</td>\n",
       "      <td>3</td>\n",
       "    </tr>\n",
       "  </tbody>\n",
       "</table>\n",
       "</div>"
      ],
      "text/plain": [
       "   area  bedrooms  floors\n",
       "0    80         1       1\n",
       "1    36         3       6\n",
       "2    56         1       1\n",
       "3    32         3       5\n",
       "4    58         3       3"
      ]
     },
     "execution_count": 5,
     "metadata": {},
     "output_type": "execute_result"
    }
   ],
   "source": [
    "# --- Area ---\n",
    "# Extracts numbers (e.g., \"80\", \"36,5\") from strings like \"80 m2\"\n",
    "# Note: Dots (.) are thousand separators, commas (,) are decimal separators\n",
    "# So \"1.111\" means 1111, and \"1,5\" means 1.5\n",
    "area_series = df['area'].astype(str)\n",
    "# Remove dots (thousand separators)\n",
    "area_series_no_dots = area_series.str.replace(r'\\.', '', regex=True)\n",
    "# Replace commas with dots (decimal separators)\n",
    "area_series_comma_as_dot = area_series_no_dots.str.replace(r',', '.', regex=True)\n",
    "# Extract the number part\n",
    "df['area'] = pd.to_numeric(area_series_comma_as_dot.str.extract(r'(\\d+(?:\\.\\d+)?)', expand=False), errors='coerce')\n",
    "# --- Bedrooms ---\n",
    "df['bedrooms'] = pd.to_numeric(df['bedrooms'].astype(str).str.extract(r'(\\d+)', expand=False), errors='coerce').astype('Int64')\n",
    "# --- Floors ---\n",
    "df['floors'] = pd.to_numeric(df['floors'].astype(str).str.extract(r'(\\d+)', expand=False), errors='coerce').astype('Int64')\n",
    "\n",
    "print(\"Numeric features converted.\")\n",
    "df[['area', 'bedrooms', 'floors']].info()\n",
    "df[['area', 'bedrooms', 'floors']].head()"
   ]
  },
  {
   "cell_type": "markdown",
   "id": "bff6d3a2",
   "metadata": {},
   "source": [
    "## 6. Price Processing\n",
    "Parse the 'price' column, converting string representations (e.g., \"X tỷ\", \"Y triệu\") into a standardized numeric 'price_converted' column (in millions)."
   ]
  },
  {
   "cell_type": "code",
   "execution_count": 6,
   "id": "cc986036",
   "metadata": {},
   "outputs": [
    {
     "name": "stdout",
     "output_type": "stream",
     "text": [
      "Price column parsed and 'price_converted' (in millions) created.\n",
      "Per m² prices detected and converted to total prices.\n"
     ]
    },
    {
     "data": {
      "application/vnd.microsoft.datawrangler.viewer.v0+json": {
       "columns": [
        {
         "name": "index",
         "rawType": "object",
         "type": "string"
        },
        {
         "name": "price_converted",
         "rawType": "float64",
         "type": "float"
        }
       ],
       "ref": "3bf62d7c-f69a-4e2b-80a2-9af7db8674c8",
       "rows": [
        [
         "count",
         "23617.0"
        ],
        [
         "mean",
         "34318.66693798713"
        ],
        [
         "std",
         "127345.09326660306"
        ],
        [
         "min",
         "4e-06"
        ],
        [
         "25%",
         "7200.0"
        ],
        [
         "50%",
         "13000.0"
        ],
        [
         "75%",
         "26000.0"
        ],
        [
         "max",
         "9416000.0"
        ]
       ],
       "shape": {
        "columns": 1,
        "rows": 8
       }
      },
      "text/plain": [
       "count    2.361700e+04\n",
       "mean     3.431867e+04\n",
       "std      1.273451e+05\n",
       "min      4.000000e-06\n",
       "25%      7.200000e+03\n",
       "50%      1.300000e+04\n",
       "75%      2.600000e+04\n",
       "max      9.416000e+06\n",
       "Name: price_converted, dtype: float64"
      ]
     },
     "execution_count": 6,
     "metadata": {},
     "output_type": "execute_result"
    }
   ],
   "source": [
    "def parse_price(price_str):\n",
    "    if pd.isna(price_str):\n",
    "        return np.nan\n",
    "    \n",
    "    price_str_lower = str(price_str).lower()\n",
    "    \n",
    "    if 'thỏa thuận' in price_str_lower:\n",
    "        return np.nan\n",
    "\n",
    "    # Replace comma with dot for decimal\n",
    "    cleaned_price_str = price_str_lower.replace(',', '.')\n",
    "    \n",
    "    # Check if price is per m² (e.g., \"36,6 triệu / m2\")\n",
    "    is_per_m2 = bool(re.search(r'\\s*\\/\\s*m2|\\s*\\/\\s*m²', cleaned_price_str, re.IGNORECASE))\n",
    "    \n",
    "    num_part_match = re.search(r'(\\d+(?:\\.\\d+)?)', cleaned_price_str)\n",
    "    if not num_part_match:\n",
    "        return np.nan\n",
    "        \n",
    "    num_val = float(num_part_match.group(1))\n",
    "    \n",
    "    # Calculate based on unit\n",
    "    if 'tỷ' in price_str_lower:  # Billion\n",
    "        value_in_millions = num_val * 1000  # Convert billions to millions\n",
    "    elif 'triệu' in price_str_lower:  # Million\n",
    "        value_in_millions = num_val  # Already in millions\n",
    "    else:  # Assuming raw VND\n",
    "        value_in_millions = num_val / 1e6  # Convert raw VND to millions\n",
    "    \n",
    "    return value_in_millions\n",
    "\n",
    "df['price_converted'] = df['price'].apply(parse_price)\n",
    "\n",
    "# Create a flag to identify per m² prices\n",
    "def is_price_per_m2(price_str):\n",
    "    if pd.isna(price_str):\n",
    "        return False\n",
    "    return bool(re.search(r'\\s*\\/\\s*m2|\\s*\\/\\s*m²', str(price_str).lower()))\n",
    "\n",
    "df['is_price_per_m2'] = df['price'].apply(is_price_per_m2)\n",
    "\n",
    "# For prices specified per m², multiply by area to get total price\n",
    "df.loc[df['is_price_per_m2'], 'price_converted'] = df.loc[df['is_price_per_m2'], 'price_converted'] * df.loc[df['is_price_per_m2'], 'area']\n",
    "\n",
    "print(\"Price column parsed and 'price_converted' (in millions) created.\")\n",
    "print(\"Per m² prices detected and converted to total prices.\")\n",
    "df[['price', 'price_converted', 'is_price_per_m2']].head()\n",
    "df['price_converted'].describe()"
   ]
  },
  {
   "cell_type": "markdown",
   "id": "45e08eee",
   "metadata": {},
   "source": [
    "## 7. Outlier Removal (Initial Columns)\n",
    "Define and apply the IQR method to remove outliers from 'area', 'bedrooms', 'floors', and 'price_converted'."
   ]
  },
  {
   "cell_type": "code",
   "execution_count": 7,
   "id": "c2994bdb",
   "metadata": {},
   "outputs": [
    {
     "name": "stdout",
     "output_type": "stream",
     "text": [
      "Shape before outlier removal: (23635, 16)\n",
      "Shape after outlier removal from ['area', 'bedrooms', 'floors', 'price_converted']: (14933, 16)\n",
      "Shape after outlier removal from ['area', 'bedrooms', 'floors', 'price_converted']: (14933, 16)\n"
     ]
    },
    {
     "data": {
      "application/vnd.microsoft.datawrangler.viewer.v0+json": {
       "columns": [
        {
         "name": "index",
         "rawType": "object",
         "type": "string"
        },
        {
         "name": "area",
         "rawType": "float64",
         "type": "float"
        },
        {
         "name": "bedrooms",
         "rawType": "Float64",
         "type": "float"
        },
        {
         "name": "floors",
         "rawType": "Float64",
         "type": "float"
        },
        {
         "name": "price_converted",
         "rawType": "float64",
         "type": "float"
        }
       ],
       "ref": "3fe98687-b210-4671-8c45-ad01f1921c6a",
       "rows": [
        [
         "count",
         "14933.0",
         "14933.0",
         "14933.0",
         "14933.0"
        ],
        [
         "mean",
         "57.281055380700465",
         "4.235317752628407",
         "4.672269470300677",
         "13706.241170899217"
        ],
        [
         "std",
         "26.229646109378834",
         "1.67906328361919",
         "1.4946123170502428",
         "8781.110002972864"
        ],
        [
         "min",
         "2.0",
         "1.0",
         "1.0",
         "3.8e-05"
        ],
        [
         "25%",
         "40.0",
         "3.0",
         "4.0",
         "7000.0"
        ],
        [
         "50%",
         "50.0",
         "4.0",
         "5.0",
         "10900.0"
        ],
        [
         "75%",
         "68.0",
         "5.0",
         "5.0",
         "18000.0"
        ],
        [
         "max",
         "181.0",
         "10.0",
         "9.0",
         "42400.0"
        ]
       ],
       "shape": {
        "columns": 4,
        "rows": 8
       }
      },
      "text/html": [
       "<div>\n",
       "<style scoped>\n",
       "    .dataframe tbody tr th:only-of-type {\n",
       "        vertical-align: middle;\n",
       "    }\n",
       "\n",
       "    .dataframe tbody tr th {\n",
       "        vertical-align: top;\n",
       "    }\n",
       "\n",
       "    .dataframe thead th {\n",
       "        text-align: right;\n",
       "    }\n",
       "</style>\n",
       "<table border=\"1\" class=\"dataframe\">\n",
       "  <thead>\n",
       "    <tr style=\"text-align: right;\">\n",
       "      <th></th>\n",
       "      <th>area</th>\n",
       "      <th>bedrooms</th>\n",
       "      <th>floors</th>\n",
       "      <th>price_converted</th>\n",
       "    </tr>\n",
       "  </thead>\n",
       "  <tbody>\n",
       "    <tr>\n",
       "      <th>count</th>\n",
       "      <td>14933.000000</td>\n",
       "      <td>14933.0</td>\n",
       "      <td>14933.0</td>\n",
       "      <td>14933.000000</td>\n",
       "    </tr>\n",
       "    <tr>\n",
       "      <th>mean</th>\n",
       "      <td>57.281055</td>\n",
       "      <td>4.235318</td>\n",
       "      <td>4.672269</td>\n",
       "      <td>13706.241171</td>\n",
       "    </tr>\n",
       "    <tr>\n",
       "      <th>std</th>\n",
       "      <td>26.229646</td>\n",
       "      <td>1.679063</td>\n",
       "      <td>1.494612</td>\n",
       "      <td>8781.110003</td>\n",
       "    </tr>\n",
       "    <tr>\n",
       "      <th>min</th>\n",
       "      <td>2.000000</td>\n",
       "      <td>1.0</td>\n",
       "      <td>1.0</td>\n",
       "      <td>0.000038</td>\n",
       "    </tr>\n",
       "    <tr>\n",
       "      <th>25%</th>\n",
       "      <td>40.000000</td>\n",
       "      <td>3.0</td>\n",
       "      <td>4.0</td>\n",
       "      <td>7000.000000</td>\n",
       "    </tr>\n",
       "    <tr>\n",
       "      <th>50%</th>\n",
       "      <td>50.000000</td>\n",
       "      <td>4.0</td>\n",
       "      <td>5.0</td>\n",
       "      <td>10900.000000</td>\n",
       "    </tr>\n",
       "    <tr>\n",
       "      <th>75%</th>\n",
       "      <td>68.000000</td>\n",
       "      <td>5.0</td>\n",
       "      <td>5.0</td>\n",
       "      <td>18000.000000</td>\n",
       "    </tr>\n",
       "    <tr>\n",
       "      <th>max</th>\n",
       "      <td>181.000000</td>\n",
       "      <td>10.0</td>\n",
       "      <td>9.0</td>\n",
       "      <td>42400.000000</td>\n",
       "    </tr>\n",
       "  </tbody>\n",
       "</table>\n",
       "</div>"
      ],
      "text/plain": [
       "               area  bedrooms    floors  price_converted\n",
       "count  14933.000000   14933.0   14933.0     14933.000000\n",
       "mean      57.281055  4.235318  4.672269     13706.241171\n",
       "std       26.229646  1.679063  1.494612      8781.110003\n",
       "min        2.000000       1.0       1.0         0.000038\n",
       "25%       40.000000       3.0       4.0      7000.000000\n",
       "50%       50.000000       4.0       5.0     10900.000000\n",
       "75%       68.000000       5.0       5.0     18000.000000\n",
       "max      181.000000      10.0       9.0     42400.000000"
      ]
     },
     "execution_count": 7,
     "metadata": {},
     "output_type": "execute_result"
    }
   ],
   "source": [
    "def remove_outliers_iqr(df_in, column):\n",
    "    Q1 = df_in[column].quantile(0.25)\n",
    "    Q3 = df_in[column].quantile(0.75)\n",
    "    IQR = Q3 - Q1\n",
    "    lower_bound = Q1 - 1.5 * IQR\n",
    "    upper_bound = Q3 + 1.5 * IQR\n",
    "    return df_in[(df_in[column] >= lower_bound) & (df_in[column] <= upper_bound)]\n",
    "\n",
    "outlier_columns = ['area', 'bedrooms', 'floors', 'price_converted']\n",
    "print(f\"Shape before outlier removal: {df.shape}\")\n",
    "\n",
    "for col in outlier_columns:\n",
    "    if col in df.columns and df[col].notna().sum() > 0:\n",
    "        df = remove_outliers_iqr(df, col)\n",
    "    else:\n",
    "        print(f\"Skipping outlier removal for column '{col}' as it's missing or all NA.\")\n",
    "\n",
    "print(f\"Shape after outlier removal from {outlier_columns}: {df.shape}\")\n",
    "df[outlier_columns].describe()"
   ]
  },
  {
   "cell_type": "markdown",
   "id": "1e59e8a4",
   "metadata": {},
   "source": [
    "## 8. Feature Engineering: Price per m²\n",
    "Create the 'price_per_m2' feature using the cleaned 'price_converted' and 'area'."
   ]
  },
  {
   "cell_type": "code",
   "execution_count": 8,
   "id": "01686ecc",
   "metadata": {},
   "outputs": [
    {
     "name": "stdout",
     "output_type": "stream",
     "text": [
      "'price_per_m2' column created.\n"
     ]
    },
    {
     "data": {
      "application/vnd.microsoft.datawrangler.viewer.v0+json": {
       "columns": [
        {
         "name": "index",
         "rawType": "object",
         "type": "string"
        },
        {
         "name": "price_per_m2",
         "rawType": "float64",
         "type": "float"
        }
       ],
       "ref": "38052290-dca3-4e22-b532-d220fbda4978",
       "rows": [
        [
         "count",
         "14933.0"
        ],
        [
         "mean",
         "241.27748162856318"
        ],
        [
         "std",
         "117.94248090133998"
        ],
        [
         "min",
         "2.1714285714285715e-07"
        ],
        [
         "25%",
         "169.44444444444446"
        ],
        [
         "50%",
         "219.44444444444446"
        ],
        [
         "75%",
         "295.45454545454544"
        ],
        [
         "max",
         "3000.0"
        ]
       ],
       "shape": {
        "columns": 1,
        "rows": 8
       }
      },
      "text/plain": [
       "count    1.493300e+04\n",
       "mean     2.412775e+02\n",
       "std      1.179425e+02\n",
       "min      2.171429e-07\n",
       "25%      1.694444e+02\n",
       "50%      2.194444e+02\n",
       "75%      2.954545e+02\n",
       "max      3.000000e+03\n",
       "Name: price_per_m2, dtype: float64"
      ]
     },
     "execution_count": 8,
     "metadata": {},
     "output_type": "execute_result"
    }
   ],
   "source": [
    "# Ensure 'area' is not zero or NA before division\n",
    "df = df[df['area'].notna() & (df['area'] > 0)]\n",
    "df['price_per_m2'] = df['price_converted'] / df['area']\n",
    "\n",
    "print(\"'price_per_m2' column created.\")\n",
    "df[['area', 'price_converted', 'price_per_m2']].head()\n",
    "df['price_per_m2'].describe()"
   ]
  },
  {
   "cell_type": "markdown",
   "id": "8280a26d",
   "metadata": {},
   "source": [
    "## 9. Outlier Removal for Price per m²\n",
    "Apply IQR outlier removal specifically to the newly created 'price_per_m2' column."
   ]
  },
  {
   "cell_type": "code",
   "execution_count": 9,
   "id": "52904da4",
   "metadata": {},
   "outputs": [
    {
     "name": "stdout",
     "output_type": "stream",
     "text": [
      "Shape before outlier removal for 'price_per_m2': (14933, 17)\n",
      "Shape after outlier removal for 'price_per_m2': (14426, 17)\n",
      "\n",
      "Summary statistics for 'price_per_m2' after outlier removal:\n",
      "count    1.442600e+04\n",
      "mean     2.287311e+02\n",
      "std      9.259072e+01\n",
      "min      2.171429e-07\n",
      "25%      1.673229e+02\n",
      "50%      2.160139e+02\n",
      "75%      2.857143e+02\n",
      "max      4.838710e+02\n",
      "Name: price_per_m2, dtype: float64\n"
     ]
    }
   ],
   "source": [
    "print(f\"Shape before outlier removal for 'price_per_m2': {df.shape}\")\n",
    "if 'price_per_m2' in df.columns and df['price_per_m2'].notna().sum() > 0:\n",
    "    df = remove_outliers_iqr(df, 'price_per_m2')\n",
    "    print(f\"Shape after outlier removal for 'price_per_m2': {df.shape}\")\n",
    "    print(\"\\nSummary statistics for 'price_per_m2' after outlier removal:\")\n",
    "    print(df['price_per_m2'].describe())\n",
    "else:\n",
    "    print(\"Skipping outlier removal for 'price_per_m2' as it's missing or all NA.\")"
   ]
  },
  {
   "cell_type": "markdown",
   "id": "1454b912",
   "metadata": {},
   "source": [
    "## 10. Final Processed DataFrame\n",
    "Display information about the final processed DataFrame."
   ]
  },
  {
   "cell_type": "code",
   "execution_count": 10,
   "id": "5484710d",
   "metadata": {},
   "outputs": [
    {
     "name": "stdout",
     "output_type": "stream",
     "text": [
      "Final DataFrame head:\n",
      "                                             address  area  bedrooms     date  \\\n",
      "0  Đường Nguyễn Văn Cừ, Phường Gia Thụy, Quận Lon...    80         1  Hôm nay   \n",
      "1  Đường Ngọc Lâm, Phường Ngọc Lâm, Quận Long Biê...    36         3  Hôm nay   \n",
      "2  Đường Ngô Gia Tự, Phường Đức Giang, Quận Long ...    56         1  Hôm nay   \n",
      "3  Đường Phúc Lợi, Phường Phúc Lợi, Quận Long Biê...    32         3  Hôm nay   \n",
      "4  Phố Lệ Mật, Phường Việt Hưng, Quận Long Biên, ...    58         3  Hôm nay   \n",
      "\n",
      "   floors     price                                              title  \\\n",
      "0       1    7,5 tỷ  🥇ĐẤT NGUYỄN VĂN CỪ 80M, MT8M, MẢNH ĐẤT RỘNG TH...   \n",
      "1       6   8,65 tỷ  🔥CÒN DUY NHẤT 1 CĂN GIÁ RẺ, NGỌC LÂM 36M, 6T G...   \n",
      "2       1   15,5 tỷ  👉MẶT PHỐ, NGÔ GIA TỰ, 56M, MT4M, VỈA HÈ ĐÁ BÓN...   \n",
      "3       5    5,2 tỷ  🥇CĂN DUY NHẤT, NGÕ THÔNG, Ô TÔ , LÔ GÓC, PHÚC ...   \n",
      "4       3      7 tỷ  🏡VIỆT HƯNG, DIỆN TÍCH RỘNG 58m, 3T, MT5m GIÁ C...   \n",
      "\n",
      "            road       ward   district  address_complete  road_cat  ward_cat  \\\n",
      "0  Nguyễn Văn Cừ   Gia Thụy  Long Biên                 1       564        54   \n",
      "1       Ngọc Lâm   Ngọc Lâm  Long Biên                 1       603       157   \n",
      "2     Ngô Gia Tự  Đức Giang  Long Biên                 1       587       390   \n",
      "3       Phúc Lợi   Phúc Lợi  Long Biên                 1       667       193   \n",
      "4         Lệ Mật  Việt Hưng  Long Biên                 1       445       313   \n",
      "\n",
      "   district_cat  price_converted  is_price_per_m2  price_per_m2  \n",
      "0            11           7500.0            False     93.750000  \n",
      "1            11           8650.0            False    240.277778  \n",
      "2            11          15500.0            False    276.785714  \n",
      "3            11           5200.0            False    162.500000  \n",
      "4            11           7000.0            False    120.689655  \n",
      "\n",
      "Final DataFrame info:\n",
      "<class 'pandas.core.frame.DataFrame'>\n",
      "Index: 14426 entries, 0 to 38956\n",
      "Data columns (total 17 columns):\n",
      " #   Column            Non-Null Count  Dtype  \n",
      "---  ------            --------------  -----  \n",
      " 0   address           14426 non-null  object \n",
      " 1   area              14426 non-null  int64  \n",
      " 2   bedrooms          14426 non-null  Int64  \n",
      " 3   date              14426 non-null  object \n",
      " 4   floors            14426 non-null  Int64  \n",
      " 5   price             14426 non-null  object \n",
      " 6   title             14426 non-null  object \n",
      " 7   road              14260 non-null  object \n",
      " 8   ward              14410 non-null  object \n",
      " 9   district          14426 non-null  object \n",
      " 10  address_complete  14426 non-null  int64  \n",
      " 11  road_cat          14426 non-null  int16  \n",
      " 12  ward_cat          14426 non-null  int16  \n",
      " 13  district_cat      14426 non-null  int8   \n",
      " 14  price_converted   14426 non-null  float64\n",
      " 15  is_price_per_m2   14426 non-null  bool   \n",
      " 16  price_per_m2      14426 non-null  float64\n",
      "dtypes: Int64(2), bool(1), float64(2), int16(2), int64(2), int8(1), object(7)\n",
      "memory usage: 1.7+ MB\n",
      "\n",
      "Final DataFrame shape: (14426, 17)\n"
     ]
    }
   ],
   "source": [
    "print(\"Final DataFrame head:\")\n",
    "print(df.head())\n",
    "print(\"\\nFinal DataFrame info:\")\n",
    "df.info()\n",
    "print(\"\\nFinal DataFrame shape:\", df.shape)\n",
    "\n",
    "# Optional: Save the processed DataFrame\n",
    "# df.to_csv('../Data Preprocessing/alonhadat_processed.csv', index=False)\n",
    "# print(\"\\nProcessed DataFrame saved to '../Data Preprocessing/alonhadat_processed.csv'\")"
   ]
  },
  {
   "cell_type": "code",
   "execution_count": 11,
   "id": "75c27742",
   "metadata": {},
   "outputs": [],
   "source": [
    "# Save the processed DataFrame\n",
    "df.to_csv('../Data Preprocessing/alonhadat_processed.csv', index=False)"
   ]
  }
 ],
 "metadata": {
  "kernelspec": {
   "display_name": "Python 3",
   "language": "python",
   "name": "python3"
  },
  "language_info": {
   "codemirror_mode": {
    "name": "ipython",
    "version": 3
   },
   "file_extension": ".py",
   "mimetype": "text/x-python",
   "name": "python",
   "nbconvert_exporter": "python",
   "pygments_lexer": "ipython3",
   "version": "3.10.12"
  }
 },
 "nbformat": 4,
 "nbformat_minor": 5
}
