{
 "cells": [
  {
   "cell_type": "code",
   "execution_count": 1,
   "id": "115c1d6c",
   "metadata": {},
   "outputs": [],
   "source": [
    "# Import necessary libraries\n",
    "import pandas as pd\n",
    "import numpy as np\n",
    "import matplotlib.pyplot as plt\n",
    "import seaborn as sns\n",
    "import re\n",
    "from datetime import datetime\n",
    "import warnings\n",
    "warnings.filterwarnings('ignore')"
   ]
  },
  {
   "cell_type": "code",
   "execution_count": 2,
   "id": "afb2adbc",
   "metadata": {},
   "outputs": [],
   "source": [
    "# Set display options\n",
    "pd.set_option('display.max_columns', None)\n",
    "pd.set_option('display.max_rows', None)\n",
    "pd.set_option('display.float_format', '{:.2f}'.format)"
   ]
  },
  {
   "cell_type": "code",
   "execution_count": null,
   "id": "a4e176f3",
   "metadata": {},
   "outputs": [],
   "source": [
    "# Load the dataset\n",
    "df = pd.read_csv('../Data Collection/Datasets/nhatot.com/raw/nhatot.csv')\n",
    "\n",
    "selected_columns = [\n",
    "    'url', 'title', 'description', 'price', 'area', 'address', \n",
    "    'Mã tin', 'Loại tin', 'Loại BDS', 'Pháp lý', \n",
    "    'Số lầu', 'Số phòng ngủ'\n",
    "]\n",
    "\n",
    "# Create a new dataframe with only the selected columns\n",
    "df_selected = df[selected_columns].copy()\n",
    "\n",
    "# Check the shape of the new dataframe\n",
    "print(f\"Original dataframe shape: {df.shape}\")\n",
    "print(f\"Selected dataframe shape: {df_selected.shape}\")\n",
    "\n",
    "# Display the first few rows of the selected dataframe\n",
    "df_selected.head()"
   ]
  }
 ],
 "metadata": {
  "kernelspec": {
   "display_name": "base",
   "language": "python",
   "name": "python3"
  },
  "language_info": {
   "codemirror_mode": {
    "name": "ipython",
    "version": 3
   },
   "file_extension": ".py",
   "mimetype": "text/x-python",
   "name": "python",
   "nbconvert_exporter": "python",
   "pygments_lexer": "ipython3",
   "version": "3.11.5"
  }
 },
 "nbformat": 4,
 "nbformat_minor": 5
}
