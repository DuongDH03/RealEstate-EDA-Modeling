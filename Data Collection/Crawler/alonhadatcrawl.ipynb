{
 "cells": [
  {
   "cell_type": "markdown",
   "id": "e5b3d88e",
   "metadata": {},
   "source": [
    "## Let's crawl"
   ]
  },
  {
   "cell_type": "code",
   "execution_count": 1,
   "id": "48c3760a",
   "metadata": {},
   "outputs": [
    {
     "name": "stdout",
     "output_type": "stream",
     "text": [
      "Requirement already satisfied: undetected-chromedriver in c:\\users\\phuon\\anaconda3\\lib\\site-packages (3.5.5)\n",
      "Requirement already satisfied: selenium in c:\\users\\phuon\\anaconda3\\lib\\site-packages (4.31.0)\n",
      "Requirement already satisfied: requests in c:\\users\\phuon\\anaconda3\\lib\\site-packages (from undetected-chromedriver) (2.31.0)\n",
      "Requirement already satisfied: websockets in c:\\users\\phuon\\anaconda3\\lib\\site-packages (from undetected-chromedriver) (15.0.1)\n",
      "Requirement already satisfied: urllib3[socks]<3,>=1.26 in c:\\users\\phuon\\anaconda3\\lib\\site-packages (from selenium) (1.26.16)\n",
      "Requirement already satisfied: trio~=0.17 in c:\\users\\phuon\\anaconda3\\lib\\site-packages (from selenium) (0.30.0)\n",
      "Requirement already satisfied: trio-websocket~=0.9 in c:\\users\\phuon\\anaconda3\\lib\\site-packages (from selenium) (0.12.2)\n",
      "Requirement already satisfied: certifi>=2021.10.8 in c:\\users\\phuon\\anaconda3\\lib\\site-packages (from selenium) (2024.8.30)\n",
      "Requirement already satisfied: typing_extensions~=4.9 in c:\\users\\phuon\\anaconda3\\lib\\site-packages (from selenium) (4.13.2)\n",
      "Requirement already satisfied: websocket-client~=1.8 in c:\\users\\phuon\\anaconda3\\lib\\site-packages (from selenium) (1.8.0)\n",
      "Requirement already satisfied: attrs>=23.2.0 in c:\\users\\phuon\\anaconda3\\lib\\site-packages (from trio~=0.17->selenium) (25.3.0)\n",
      "Requirement already satisfied: sortedcontainers in c:\\users\\phuon\\anaconda3\\lib\\site-packages (from trio~=0.17->selenium) (2.4.0)\n",
      "Requirement already satisfied: idna in c:\\users\\phuon\\anaconda3\\lib\\site-packages (from trio~=0.17->selenium) (3.4)\n",
      "Requirement already satisfied: outcome in c:\\users\\phuon\\anaconda3\\lib\\site-packages (from trio~=0.17->selenium) (1.3.0.post0)\n",
      "Requirement already satisfied: sniffio>=1.3.0 in c:\\users\\phuon\\anaconda3\\lib\\site-packages (from trio~=0.17->selenium) (1.3.1)\n",
      "Requirement already satisfied: cffi>=1.14 in c:\\users\\phuon\\anaconda3\\lib\\site-packages (from trio~=0.17->selenium) (1.15.1)\n",
      "Requirement already satisfied: wsproto>=0.14 in c:\\users\\phuon\\anaconda3\\lib\\site-packages (from trio-websocket~=0.9->selenium) (1.2.0)\n",
      "Requirement already satisfied: PySocks!=1.5.7,<2.0,>=1.5.6 in c:\\users\\phuon\\anaconda3\\lib\\site-packages (from urllib3[socks]<3,>=1.26->selenium) (1.7.1)\n",
      "Requirement already satisfied: charset-normalizer<4,>=2 in c:\\users\\phuon\\anaconda3\\lib\\site-packages (from requests->undetected-chromedriver) (2.0.4)\n",
      "Requirement already satisfied: pycparser in c:\\users\\phuon\\anaconda3\\lib\\site-packages (from cffi>=1.14->trio~=0.17->selenium) (2.21)\n",
      "Requirement already satisfied: h11<1,>=0.9.0 in c:\\users\\phuon\\anaconda3\\lib\\site-packages (from wsproto>=0.14->trio-websocket~=0.9->selenium) (0.16.0)\n",
      "Note: you may need to restart the kernel to use updated packages.\n"
     ]
    },
    {
     "name": "stderr",
     "output_type": "stream",
     "text": [
      "DEPRECATION: Loading egg at c:\\users\\phuon\\anaconda3\\lib\\site-packages\\torchlight-1.0-py3.11.egg is deprecated. pip 23.3 will enforce this behaviour change. A possible replacement is to use pip for package installation..\n"
     ]
    }
   ],
   "source": [
    "%pip install undetected-chromedriver selenium"
   ]
  },
  {
   "cell_type": "code",
   "execution_count": null,
   "id": "5677cbaf",
   "metadata": {},
   "outputs": [
    {
     "name": "stdout",
     "output_type": "stream",
     "text": [
      "Crawling page 351...\n"
     ]
    },
    {
     "ename": "InvalidSessionIdException",
     "evalue": "Message: invalid session id: session deleted as the browser has closed the connection\nfrom disconnected: not connected to DevTools\n  (Session info: chrome=136.0.7103.114)\nStacktrace:\n\tGetHandleVerifier [0x0113FC83+61635]\n\tGetHandleVerifier [0x0113FCC4+61700]\n\t(No symbol) [0x00F605D3]\n\t(No symbol) [0x00F4FE20]\n\t(No symbol) [0x00F6DD1F]\n\t(No symbol) [0x00FD3E8C]\n\t(No symbol) [0x00FEDF19]\n\t(No symbol) [0x00FCD096]\n\t(No symbol) [0x00F9C840]\n\t(No symbol) [0x00F9D6A4]\n\tGetHandleVerifier [0x013C45A3+2701795]\n\tGetHandleVerifier [0x013BFD26+2683238]\n\tGetHandleVerifier [0x013DAA6E+2793134]\n\tGetHandleVerifier [0x01156945+155013]\n\tGetHandleVerifier [0x0115D02D+181357]\n\tGetHandleVerifier [0x011474D8+92440]\n\tGetHandleVerifier [0x01147680+92864]\n\tGetHandleVerifier [0x01132070+5296]\n\tBaseThreadInitThunk [0x75577BA9+25]\n\tRtlInitializeExceptionChain [0x77AEC36B+107]\n\tRtlClearBits [0x77AEC2EF+191]\n",
     "output_type": "error",
     "traceback": [
      "\u001b[1;31m---------------------------------------------------------------------------\u001b[0m",
      "\u001b[1;31mInvalidSessionIdException\u001b[0m                 Traceback (most recent call last)",
      "Cell \u001b[1;32mIn[8], line 107\u001b[0m\n\u001b[0;32m    104\u001b[0m     driver\u001b[38;5;241m.\u001b[39mrefresh()\n\u001b[0;32m    105\u001b[0m     random_sleep(\u001b[38;5;241m2\u001b[39m, \u001b[38;5;241m4\u001b[39m)\n\u001b[1;32m--> 107\u001b[0m data \u001b[38;5;241m=\u001b[39m crawl_alonhadat_selenium(page_num, driver)\n\u001b[0;32m    108\u001b[0m \u001b[38;5;28;01mif\u001b[39;00m data:\n\u001b[0;32m    109\u001b[0m     output_file \u001b[38;5;241m=\u001b[39m os\u001b[38;5;241m.\u001b[39mpath\u001b[38;5;241m.\u001b[39mjoin(output_folder, \u001b[38;5;124mf\u001b[39m\u001b[38;5;124m\"\u001b[39m\u001b[38;5;124mpage_\u001b[39m\u001b[38;5;132;01m{\u001b[39;00mpage_num\u001b[38;5;132;01m}\u001b[39;00m\u001b[38;5;124m.jsonl\u001b[39m\u001b[38;5;124m\"\u001b[39m)\n",
      "Cell \u001b[1;32mIn[8], line 19\u001b[0m, in \u001b[0;36mcrawl_alonhadat_selenium\u001b[1;34m(page_num, driver)\u001b[0m\n\u001b[0;32m     16\u001b[0m driver\u001b[38;5;241m.\u001b[39mget(url)\n\u001b[0;32m     17\u001b[0m random_sleep(\u001b[38;5;241m2\u001b[39m, \u001b[38;5;241m4\u001b[39m)  \u001b[38;5;66;03m# Wait for page to load\u001b[39;00m\n\u001b[1;32m---> 19\u001b[0m items \u001b[38;5;241m=\u001b[39m driver\u001b[38;5;241m.\u001b[39mfind_elements(By\u001b[38;5;241m.\u001b[39mCSS_SELECTOR, \u001b[38;5;124m\"\u001b[39m\u001b[38;5;124mdiv.content-item\u001b[39m\u001b[38;5;124m\"\u001b[39m)\n\u001b[0;32m     20\u001b[0m results \u001b[38;5;241m=\u001b[39m []\n\u001b[0;32m     21\u001b[0m \u001b[38;5;28;01mfor\u001b[39;00m item \u001b[38;5;129;01min\u001b[39;00m items:\n",
      "File \u001b[1;32mc:\\Users\\phuon\\anaconda3\\Lib\\site-packages\\selenium\\webdriver\\remote\\webdriver.py:936\u001b[0m, in \u001b[0;36mWebDriver.find_elements\u001b[1;34m(self, by, value)\u001b[0m\n\u001b[0;32m    932\u001b[0m     \u001b[38;5;28;01mreturn\u001b[39;00m \u001b[38;5;28mself\u001b[39m\u001b[38;5;241m.\u001b[39mexecute_script(find_element_js, by\u001b[38;5;241m.\u001b[39mto_dict())\n\u001b[0;32m    934\u001b[0m \u001b[38;5;66;03m# Return empty list if driver returns null\u001b[39;00m\n\u001b[0;32m    935\u001b[0m \u001b[38;5;66;03m# See https://github.com/SeleniumHQ/selenium/issues/4555\u001b[39;00m\n\u001b[1;32m--> 936\u001b[0m \u001b[38;5;28;01mreturn\u001b[39;00m \u001b[38;5;28mself\u001b[39m\u001b[38;5;241m.\u001b[39mexecute(Command\u001b[38;5;241m.\u001b[39mFIND_ELEMENTS, {\u001b[38;5;124m\"\u001b[39m\u001b[38;5;124musing\u001b[39m\u001b[38;5;124m\"\u001b[39m: by, \u001b[38;5;124m\"\u001b[39m\u001b[38;5;124mvalue\u001b[39m\u001b[38;5;124m\"\u001b[39m: value})[\u001b[38;5;124m\"\u001b[39m\u001b[38;5;124mvalue\u001b[39m\u001b[38;5;124m\"\u001b[39m] \u001b[38;5;129;01mor\u001b[39;00m []\n",
      "File \u001b[1;32mc:\\Users\\phuon\\anaconda3\\Lib\\site-packages\\selenium\\webdriver\\remote\\webdriver.py:429\u001b[0m, in \u001b[0;36mWebDriver.execute\u001b[1;34m(self, driver_command, params)\u001b[0m\n\u001b[0;32m    427\u001b[0m response \u001b[38;5;241m=\u001b[39m \u001b[38;5;28mself\u001b[39m\u001b[38;5;241m.\u001b[39mcommand_executor\u001b[38;5;241m.\u001b[39mexecute(driver_command, params)\n\u001b[0;32m    428\u001b[0m \u001b[38;5;28;01mif\u001b[39;00m response:\n\u001b[1;32m--> 429\u001b[0m     \u001b[38;5;28mself\u001b[39m\u001b[38;5;241m.\u001b[39merror_handler\u001b[38;5;241m.\u001b[39mcheck_response(response)\n\u001b[0;32m    430\u001b[0m     response[\u001b[38;5;124m\"\u001b[39m\u001b[38;5;124mvalue\u001b[39m\u001b[38;5;124m\"\u001b[39m] \u001b[38;5;241m=\u001b[39m \u001b[38;5;28mself\u001b[39m\u001b[38;5;241m.\u001b[39m_unwrap_value(response\u001b[38;5;241m.\u001b[39mget(\u001b[38;5;124m\"\u001b[39m\u001b[38;5;124mvalue\u001b[39m\u001b[38;5;124m\"\u001b[39m, \u001b[38;5;28;01mNone\u001b[39;00m))\n\u001b[0;32m    431\u001b[0m     \u001b[38;5;28;01mreturn\u001b[39;00m response\n",
      "File \u001b[1;32mc:\\Users\\phuon\\anaconda3\\Lib\\site-packages\\selenium\\webdriver\\remote\\errorhandler.py:232\u001b[0m, in \u001b[0;36mErrorHandler.check_response\u001b[1;34m(self, response)\u001b[0m\n\u001b[0;32m    230\u001b[0m         alert_text \u001b[38;5;241m=\u001b[39m value[\u001b[38;5;124m\"\u001b[39m\u001b[38;5;124malert\u001b[39m\u001b[38;5;124m\"\u001b[39m]\u001b[38;5;241m.\u001b[39mget(\u001b[38;5;124m\"\u001b[39m\u001b[38;5;124mtext\u001b[39m\u001b[38;5;124m\"\u001b[39m)\n\u001b[0;32m    231\u001b[0m     \u001b[38;5;28;01mraise\u001b[39;00m exception_class(message, screen, stacktrace, alert_text)  \u001b[38;5;66;03m# type: ignore[call-arg]  # mypy is not smart enough here\u001b[39;00m\n\u001b[1;32m--> 232\u001b[0m \u001b[38;5;28;01mraise\u001b[39;00m exception_class(message, screen, stacktrace)\n",
      "\u001b[1;31mInvalidSessionIdException\u001b[0m: Message: invalid session id: session deleted as the browser has closed the connection\nfrom disconnected: not connected to DevTools\n  (Session info: chrome=136.0.7103.114)\nStacktrace:\n\tGetHandleVerifier [0x0113FC83+61635]\n\tGetHandleVerifier [0x0113FCC4+61700]\n\t(No symbol) [0x00F605D3]\n\t(No symbol) [0x00F4FE20]\n\t(No symbol) [0x00F6DD1F]\n\t(No symbol) [0x00FD3E8C]\n\t(No symbol) [0x00FEDF19]\n\t(No symbol) [0x00FCD096]\n\t(No symbol) [0x00F9C840]\n\t(No symbol) [0x00F9D6A4]\n\tGetHandleVerifier [0x013C45A3+2701795]\n\tGetHandleVerifier [0x013BFD26+2683238]\n\tGetHandleVerifier [0x013DAA6E+2793134]\n\tGetHandleVerifier [0x01156945+155013]\n\tGetHandleVerifier [0x0115D02D+181357]\n\tGetHandleVerifier [0x011474D8+92440]\n\tGetHandleVerifier [0x01147680+92864]\n\tGetHandleVerifier [0x01132070+5296]\n\tBaseThreadInitThunk [0x75577BA9+25]\n\tRtlInitializeExceptionChain [0x77AEC36B+107]\n\tRtlClearBits [0x77AEC2EF+191]\n"
     ]
    }
   ],
   "source": [
    "# Crawl alonhadat.com.vn using undetected-chromedriver from page 2 to 500\n",
    "\n",
    "import undetected_chromedriver as uc\n",
    "from selenium.webdriver.common.by import By\n",
    "from selenium.common.exceptions import NoSuchElementException\n",
    "import time\n",
    "import json\n",
    "import os\n",
    "import random\n",
    "\n",
    "def random_sleep(min_seconds, max_seconds):\n",
    "    time.sleep(random.uniform(min_seconds, max_seconds))\n",
    "\n",
    "def crawl_alonhadat_selenium(page_num, driver):\n",
    "    url = f\"https://alonhadat.com.vn/nha-dat/can-ban/nha-dat/1/ha-noi/trang--{page_num}.html\"\n",
    "    driver.get(url)\n",
    "    random_sleep(2, 4)  # Wait for page to load\n",
    "\n",
    "    items = driver.find_elements(By.CSS_SELECTOR, \"div.content-item\")\n",
    "    results = []\n",
    "    for item in items:\n",
    "        try:\n",
    "            title_tag = item.find_element(By.CSS_SELECTOR, \"div.ct_title a\")\n",
    "            title = title_tag.text.strip()\n",
    "            link = \"https://alonhadat.com.vn\" + title_tag.get_attribute(\"href\")\n",
    "\n",
    "            date = item.find_element(By.CSS_SELECTOR, \"div.ct_date\").text.strip()\n",
    "\n",
    "            try:\n",
    "                area = item.find_element(By.CSS_SELECTOR, \"div.ct_dt\").text.strip().replace(\"Diện tích:\", \"\")\n",
    "            except NoSuchElementException:\n",
    "                area = \"\"\n",
    "\n",
    "            try:\n",
    "                price = item.find_element(By.CSS_SELECTOR, \"div.ct_price\").text.strip().replace(\"Giá:\", \"\")\n",
    "            except NoSuchElementException:\n",
    "                price = \"\"\n",
    "\n",
    "            try:\n",
    "                floors = item.find_element(By.CSS_SELECTOR, \"span.floors\").get_attribute(\"title\")\n",
    "            except NoSuchElementException:\n",
    "                floors = \"\"\n",
    "\n",
    "            try:\n",
    "                bedrooms = item.find_element(By.CSS_SELECTOR, \"span.bedroom\").get_attribute(\"title\")\n",
    "            except NoSuchElementException:\n",
    "                bedrooms = \"\"\n",
    "\n",
    "            try:\n",
    "                address = item.find_element(By.CSS_SELECTOR, \"div.ct_dis\").text.strip()\n",
    "            except NoSuchElementException:\n",
    "                address = \"\"\n",
    "\n",
    "            results.append({\n",
    "                \"title\": title,\n",
    "                \"url\": link,\n",
    "                \"date\": date,\n",
    "                \"area\": area,\n",
    "                \"price\": price,\n",
    "                \"floors\": floors,\n",
    "                \"bedrooms\": bedrooms,\n",
    "                \"address\": address,\n",
    "            })\n",
    "        except Exception as e:\n",
    "            print(f\"Error parsing item: {e}\")\n",
    "    return results\n",
    "\n",
    "def is_captcha_present(driver):\n",
    "    try:\n",
    "        # Check for the instruction text or the captcha input box\n",
    "        body_text = driver.find_element(By.TAG_NAME, \"body\").text\n",
    "        if \"Nhập tên 3 con vật\" in body_text or \"Tôi không phải người máy\" in body_text:\n",
    "            return True\n",
    "        # Or check for the captcha input box by id\n",
    "        if driver.find_elements(By.ID, \"captcha\"):\n",
    "            return True\n",
    "    except Exception:\n",
    "        pass\n",
    "    return False\n",
    "\n",
    "# --- Setup undetected-chromedriver ---\n",
    "chrome_options = uc.ChromeOptions()\n",
    "chrome_options.add_argument(\"--incognito\")\n",
    "chrome_options.add_argument(\"--disable-gpu\")\n",
    "chrome_options.add_argument(\"--no-sandbox\")\n",
    "chrome_options.add_argument(\"--window-size=1920,1080\")\n",
    "chrome_options.add_argument(\"--disable-blink-features=AutomationControlled\")\n",
    "driver = uc.Chrome(options=chrome_options, version_main=136)\n",
    "\n",
    "# --- Crawl pages and save as JSONL ---\n",
    "output_folder = \"../Datasets/alonhadat.com/json_new\"\n",
    "os.makedirs(output_folder, exist_ok=True)\n",
    "start_page = 401\n",
    "end_page = 500\n",
    "\n",
    "for page_num in range(start_page, end_page + 1):\n",
    "    print(f\"Crawling page {page_num}...\")\n",
    "\n",
    "    # CAPTCHA check and manual intervention\n",
    "    while is_captcha_present(driver):\n",
    "        print(\"\\n[CAPTCHA detected!]\")\n",
    "        print(\"Please solve the CAPTCHA in the browser window, then press Enter here to continue...\")\n",
    "        input()\n",
    "        driver.refresh()\n",
    "        random_sleep(2, 4)\n",
    "    \n",
    "    data = crawl_alonhadat_selenium(page_num, driver)\n",
    "    if data:\n",
    "        output_file = os.path.join(output_folder, f\"page_{page_num}.jsonl\")\n",
    "        with open(output_file, \"w\", encoding=\"utf-8\") as file:\n",
    "            for d in data:\n",
    "                file.write(json.dumps(d, ensure_ascii=False) + \"\\n\")\n",
    "        print(f\"Saved {len(data)} items to {output_file}\")\n",
    "    else:\n",
    "        print(f\"No data found for page {page_num}\")\n",
    "    random_sleep(1, 3)  # Be polite to the server\n",
    "\n",
    "driver.quit()"
   ]
  }
 ],
 "metadata": {
  "kernelspec": {
   "display_name": "base",
   "language": "python",
   "name": "python3"
  },
  "language_info": {
   "codemirror_mode": {
    "name": "ipython",
    "version": 3
   },
   "file_extension": ".py",
   "mimetype": "text/x-python",
   "name": "python",
   "nbconvert_exporter": "python",
   "pygments_lexer": "ipython3",
   "version": "3.11.5"
  }
 },
 "nbformat": 4,
 "nbformat_minor": 5
}
