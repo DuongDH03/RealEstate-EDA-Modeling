{
 "cells": [
  {
   "cell_type": "code",
   "execution_count": 15,
   "id": "b2dcca41",
   "metadata": {},
   "outputs": [
    {
     "name": "stdout",
     "output_type": "stream",
     "text": [
      "Collecting fake_useragentNote: you may need to restart the kernel to use updated packages.\n",
      "\n",
      "  Downloading fake_useragent-2.2.0-py3-none-any.whl.metadata (17 kB)\n",
      "Downloading fake_useragent-2.2.0-py3-none-any.whl (161 kB)\n",
      "Installing collected packages: fake_useragent\n",
      "Successfully installed fake_useragent-2.2.0\n"
     ]
    }
   ],
   "source": [
    "%pip install fake_useragent"
   ]
  },
  {
   "cell_type": "code",
   "execution_count": null,
   "id": "3d159f9f",
   "metadata": {},
   "outputs": [],
   "source": [
    "from selenium import webdriver\n",
    "from selenium.webdriver.chrome.service import Service\n",
    "from selenium.webdriver.chrome.options import Options\n",
    "from selenium.webdriver.common.by import By\n",
    "from fake_useragent import UserAgent\n",
    "import time\n",
    "import random\n",
    "\n",
    "chrome_options = Options()\n",
    "ua = UserAgent()\n",
    "user_agents = [\n",
    "    \"Mozilla/5.0 (Windows NT 10.0; Win64; x64) AppleWebKit/537.36 (KHTML, like Gecko) Chrome/91.0.4472.124 Safari/537.36\",\n",
    "    \"Mozilla/5.0 (Macintosh; Intel Mac OS X 10_15_7) AppleWebKit/537.36 (KHTML, like Gecko) Chrome/91.0.4472.124 Safari/537.36\",\n",
    "    \"Mozilla/5.0 (X11; Linux x86_64) AppleWebKit/537.36 (KHTML, like Gecko) Chrome/91.0.4472.124 Safari/537.36\",\n",
    "    \"Mozilla/5.0 (Windows NT 10.0; Win64; x64; rv:89.0) Gecko/20100101 Firefox/89.0\",\n",
    "    \"Mozilla/5.0 (Macintosh; Intel Mac OS X 10_15_7; rv:89.0) Gecko/20100101 Firefox/89.0\",\n",
    "    \"Mozilla/5.0 (X11; Linux x86_64; rv:89.0) Gecko/20100101 Firefox/89.0\"\n",
    "]\n",
    "user_agent = random.choice(user_agents)\n",
    "\n",
    "chrome_options.add_argument(\"--incognito\")\n",
    "chrome_options.add_argument(f\"user-agent={user_agent}\")\n",
    "chrome_options.add_argument(\"--ignore-ssl-errors\")\n",
    "chrome_options.add_argument(\"--ignore-certificate-errors\")\n",
    "chrome_options.add_argument(\"--start-maximized\")\n",
    "chrome_options.add_argument(\"--disable-blink-features=AutomationControlled\")\n",
    "\n",
    "driver = webdriver.Chrome(service=Service('driver\\chromedriver-win64\\chromedriver.exe'), options=chrome_options)\n"
   ]
  },
  {
   "cell_type": "markdown",
   "id": "b810264c",
   "metadata": {},
   "source": []
  },
  {
   "cell_type": "code",
   "execution_count": 24,
   "id": "7a090bf7",
   "metadata": {},
   "outputs": [],
   "source": [
    "def random_sleep(min_seconds, max_seconds):\n",
    "    \"\"\"Sleep for a random number of seconds between min and max.\"\"\"\n",
    "    time.sleep(random.uniform(min_seconds, max_seconds))"
   ]
  },
  {
   "cell_type": "code",
   "execution_count": null,
   "id": "3f51670b",
   "metadata": {},
   "outputs": [
    {
     "ename": "ElementClickInterceptedException",
     "evalue": "Message: element click intercepted: Element <div class=\"re__card-info-content\">...</div> is not clickable at point (640, 77). Other element would receive the click: <div class=\"re__search-location-row re__search-location-select-header-item js_search-location-select-header-item\">...</div>\n  (Session info: chrome=135.0.7049.115)\nStacktrace:\n\tGetHandleVerifier [0x00007FF7530C5305+78597]\n\tGetHandleVerifier [0x00007FF7530C5360+78688]\n\t(No symbol) [0x00007FF752E791AA]\n\t(No symbol) [0x00007FF752ED7089]\n\t(No symbol) [0x00007FF752ED4A42]\n\t(No symbol) [0x00007FF752ED1AE1]\n\t(No symbol) [0x00007FF752ED0A42]\n\t(No symbol) [0x00007FF752EC2204]\n\t(No symbol) [0x00007FF752EF70EA]\n\t(No symbol) [0x00007FF752EC1AB6]\n\t(No symbol) [0x00007FF752EF7300]\n\t(No symbol) [0x00007FF752F1F2BB]\n\t(No symbol) [0x00007FF752EF6EC3]\n\t(No symbol) [0x00007FF752EC03F8]\n\t(No symbol) [0x00007FF752EC1163]\n\tGetHandleVerifier [0x00007FF75336EEBD+2870973]\n\tGetHandleVerifier [0x00007FF753369668+2848360]\n\tGetHandleVerifier [0x00007FF753386943+2967875]\n\tGetHandleVerifier [0x00007FF7530E014A+188746]\n\tGetHandleVerifier [0x00007FF7530E842F+222255]\n\tGetHandleVerifier [0x00007FF7530CD284+111236]\n\tGetHandleVerifier [0x00007FF7530CD432+111666]\n\tGetHandleVerifier [0x00007FF7530B3559+5465]\n\tBaseThreadInitThunk [0x00007FFC43E8257D+29]\n\tRtlUserThreadStart [0x00007FFC444EAF08+40]\n",
     "output_type": "error",
     "traceback": [
      "\u001b[1;31m---------------------------------------------------------------------------\u001b[0m",
      "\u001b[1;31mElementClickInterceptedException\u001b[0m          Traceback (most recent call last)",
      "Cell \u001b[1;32mIn[25], line 15\u001b[0m\n\u001b[0;32m     12\u001b[0m     random_sleep(\u001b[38;5;241m2\u001b[39m, \u001b[38;5;241m3\u001b[39m)\n\u001b[0;32m     14\u001b[0m driver\u001b[38;5;241m.\u001b[39mexecute_script(\u001b[38;5;124m\"\u001b[39m\u001b[38;5;124marguments[0].scrollIntoView(true);\u001b[39m\u001b[38;5;124m\"\u001b[39m, starting_point)\n\u001b[1;32m---> 15\u001b[0m \u001b[43mstarting_point\u001b[49m\u001b[38;5;241;43m.\u001b[39;49m\u001b[43mclick\u001b[49m\u001b[43m(\u001b[49m\u001b[43m)\u001b[49m\n\u001b[0;32m     17\u001b[0m time\u001b[38;5;241m.\u001b[39msleep(\u001b[38;5;241m5\u001b[39m)\n\u001b[0;32m     19\u001b[0m random_sleep(\u001b[38;5;241m2\u001b[39m, \u001b[38;5;241m3\u001b[39m)\n",
      "File \u001b[1;32m~\\AppData\\Local\\Packages\\PythonSoftwareFoundation.Python.3.11_qbz5n2kfra8p0\\LocalCache\\local-packages\\Python311\\site-packages\\selenium\\webdriver\\remote\\webelement.py:119\u001b[0m, in \u001b[0;36mWebElement.click\u001b[1;34m(self)\u001b[0m\n\u001b[0;32m    111\u001b[0m \u001b[38;5;28;01mdef\u001b[39;00m \u001b[38;5;21mclick\u001b[39m(\u001b[38;5;28mself\u001b[39m) \u001b[38;5;241m-\u001b[39m\u001b[38;5;241m>\u001b[39m \u001b[38;5;28;01mNone\u001b[39;00m:\n\u001b[0;32m    112\u001b[0m \u001b[38;5;250m    \u001b[39m\u001b[38;5;124;03m\"\"\"Clicks the element.\u001b[39;00m\n\u001b[0;32m    113\u001b[0m \n\u001b[0;32m    114\u001b[0m \u001b[38;5;124;03m    Example:\u001b[39;00m\n\u001b[1;32m   (...)\u001b[0m\n\u001b[0;32m    117\u001b[0m \u001b[38;5;124;03m    >>> element.click()\u001b[39;00m\n\u001b[0;32m    118\u001b[0m \u001b[38;5;124;03m    \"\"\"\u001b[39;00m\n\u001b[1;32m--> 119\u001b[0m     \u001b[38;5;28;43mself\u001b[39;49m\u001b[38;5;241;43m.\u001b[39;49m\u001b[43m_execute\u001b[49m\u001b[43m(\u001b[49m\u001b[43mCommand\u001b[49m\u001b[38;5;241;43m.\u001b[39;49m\u001b[43mCLICK_ELEMENT\u001b[49m\u001b[43m)\u001b[49m\n",
      "File \u001b[1;32m~\\AppData\\Local\\Packages\\PythonSoftwareFoundation.Python.3.11_qbz5n2kfra8p0\\LocalCache\\local-packages\\Python311\\site-packages\\selenium\\webdriver\\remote\\webelement.py:572\u001b[0m, in \u001b[0;36mWebElement._execute\u001b[1;34m(self, command, params)\u001b[0m\n\u001b[0;32m    570\u001b[0m     params \u001b[38;5;241m=\u001b[39m {}\n\u001b[0;32m    571\u001b[0m params[\u001b[38;5;124m\"\u001b[39m\u001b[38;5;124mid\u001b[39m\u001b[38;5;124m\"\u001b[39m] \u001b[38;5;241m=\u001b[39m \u001b[38;5;28mself\u001b[39m\u001b[38;5;241m.\u001b[39m_id\n\u001b[1;32m--> 572\u001b[0m \u001b[38;5;28;01mreturn\u001b[39;00m \u001b[38;5;28;43mself\u001b[39;49m\u001b[38;5;241;43m.\u001b[39;49m\u001b[43m_parent\u001b[49m\u001b[38;5;241;43m.\u001b[39;49m\u001b[43mexecute\u001b[49m\u001b[43m(\u001b[49m\u001b[43mcommand\u001b[49m\u001b[43m,\u001b[49m\u001b[43m \u001b[49m\u001b[43mparams\u001b[49m\u001b[43m)\u001b[49m\n",
      "File \u001b[1;32m~\\AppData\\Local\\Packages\\PythonSoftwareFoundation.Python.3.11_qbz5n2kfra8p0\\LocalCache\\local-packages\\Python311\\site-packages\\selenium\\webdriver\\remote\\webdriver.py:429\u001b[0m, in \u001b[0;36mWebDriver.execute\u001b[1;34m(self, driver_command, params)\u001b[0m\n\u001b[0;32m    427\u001b[0m response \u001b[38;5;241m=\u001b[39m \u001b[38;5;28mself\u001b[39m\u001b[38;5;241m.\u001b[39mcommand_executor\u001b[38;5;241m.\u001b[39mexecute(driver_command, params)\n\u001b[0;32m    428\u001b[0m \u001b[38;5;28;01mif\u001b[39;00m response:\n\u001b[1;32m--> 429\u001b[0m     \u001b[38;5;28;43mself\u001b[39;49m\u001b[38;5;241;43m.\u001b[39;49m\u001b[43merror_handler\u001b[49m\u001b[38;5;241;43m.\u001b[39;49m\u001b[43mcheck_response\u001b[49m\u001b[43m(\u001b[49m\u001b[43mresponse\u001b[49m\u001b[43m)\u001b[49m\n\u001b[0;32m    430\u001b[0m     response[\u001b[38;5;124m\"\u001b[39m\u001b[38;5;124mvalue\u001b[39m\u001b[38;5;124m\"\u001b[39m] \u001b[38;5;241m=\u001b[39m \u001b[38;5;28mself\u001b[39m\u001b[38;5;241m.\u001b[39m_unwrap_value(response\u001b[38;5;241m.\u001b[39mget(\u001b[38;5;124m\"\u001b[39m\u001b[38;5;124mvalue\u001b[39m\u001b[38;5;124m\"\u001b[39m, \u001b[38;5;28;01mNone\u001b[39;00m))\n\u001b[0;32m    431\u001b[0m     \u001b[38;5;28;01mreturn\u001b[39;00m response\n",
      "File \u001b[1;32m~\\AppData\\Local\\Packages\\PythonSoftwareFoundation.Python.3.11_qbz5n2kfra8p0\\LocalCache\\local-packages\\Python311\\site-packages\\selenium\\webdriver\\remote\\errorhandler.py:232\u001b[0m, in \u001b[0;36mErrorHandler.check_response\u001b[1;34m(self, response)\u001b[0m\n\u001b[0;32m    230\u001b[0m         alert_text \u001b[38;5;241m=\u001b[39m value[\u001b[38;5;124m\"\u001b[39m\u001b[38;5;124malert\u001b[39m\u001b[38;5;124m\"\u001b[39m]\u001b[38;5;241m.\u001b[39mget(\u001b[38;5;124m\"\u001b[39m\u001b[38;5;124mtext\u001b[39m\u001b[38;5;124m\"\u001b[39m)\n\u001b[0;32m    231\u001b[0m     \u001b[38;5;28;01mraise\u001b[39;00m exception_class(message, screen, stacktrace, alert_text)  \u001b[38;5;66;03m# type: ignore[call-arg]  # mypy is not smart enough here\u001b[39;00m\n\u001b[1;32m--> 232\u001b[0m \u001b[38;5;28;01mraise\u001b[39;00m exception_class(message, screen, stacktrace)\n",
      "\u001b[1;31mElementClickInterceptedException\u001b[0m: Message: element click intercepted: Element <div class=\"re__card-info-content\">...</div> is not clickable at point (640, 77). Other element would receive the click: <div class=\"re__search-location-row re__search-location-select-header-item js_search-location-select-header-item\">...</div>\n  (Session info: chrome=135.0.7049.115)\nStacktrace:\n\tGetHandleVerifier [0x00007FF7530C5305+78597]\n\tGetHandleVerifier [0x00007FF7530C5360+78688]\n\t(No symbol) [0x00007FF752E791AA]\n\t(No symbol) [0x00007FF752ED7089]\n\t(No symbol) [0x00007FF752ED4A42]\n\t(No symbol) [0x00007FF752ED1AE1]\n\t(No symbol) [0x00007FF752ED0A42]\n\t(No symbol) [0x00007FF752EC2204]\n\t(No symbol) [0x00007FF752EF70EA]\n\t(No symbol) [0x00007FF752EC1AB6]\n\t(No symbol) [0x00007FF752EF7300]\n\t(No symbol) [0x00007FF752F1F2BB]\n\t(No symbol) [0x00007FF752EF6EC3]\n\t(No symbol) [0x00007FF752EC03F8]\n\t(No symbol) [0x00007FF752EC1163]\n\tGetHandleVerifier [0x00007FF75336EEBD+2870973]\n\tGetHandleVerifier [0x00007FF753369668+2848360]\n\tGetHandleVerifier [0x00007FF753386943+2967875]\n\tGetHandleVerifier [0x00007FF7530E014A+188746]\n\tGetHandleVerifier [0x00007FF7530E842F+222255]\n\tGetHandleVerifier [0x00007FF7530CD284+111236]\n\tGetHandleVerifier [0x00007FF7530CD432+111666]\n\tGetHandleVerifier [0x00007FF7530B3559+5465]\n\tBaseThreadInitThunk [0x00007FFC43E8257D+29]\n\tRtlUserThreadStart [0x00007FFC444EAF08+40]\n"
     ]
    }
   ],
   "source": [
    "\n",
    "\n",
    "url = \"https://batdongsan.com.vn/nha-dat-ban\"\n",
    "\n",
    "driver.get(url)\n",
    "\n",
    "# Wait for the page to load\n",
    "time.sleep(3)\n",
    "\n",
    "driver.execute_cdp_cmd(\"Page.addScriptToEvaluateOnNewDocument\", {\n",
    "    \"source\": \"\"\"\n",
    "    Object.defineProperty(navigator, 'webdriver', {\n",
    "        get: () => undefined\n",
    "    })\n",
    "    \"\"\"\n",
    "})\n",
    "\n",
    "# Fake human behavior by scrolling down\n",
    "starting_point = driver.find_element(By.CSS_SELECTOR, \".re__card-info-content\")\n",
    "for _ in range(2):\n",
    "    driver.execute_script(\"window.scrollTo(0, document.body.scrollHeight);\")\n",
    "    random_sleep(2, 3)\n",
    "\n",
    "driver.execute_script(\"arguments[0].scrollIntoView(true);\", starting_point)\n",
    "starting_point.click()\n",
    "\n",
    "time.sleep(5)\n",
    "\n",
    "random_sleep(2, 3)\n",
    "\n",
    "elements = driver.find_elements(By.CSS_SELECTOR, \".re__pr-specs-content-item , .js__tracking , .ext , .value , .js__pr-title\")\n",
    "print(\"Number of elements found:\", len(elements))\n",
    "for element in elements:\n",
    "    print(element.text)\n",
    "\n"
   ]
  }
 ],
 "metadata": {
  "kernelspec": {
   "display_name": "Python 3",
   "language": "python",
   "name": "python3"
  },
  "language_info": {
   "codemirror_mode": {
    "name": "ipython",
    "version": 3
   },
   "file_extension": ".py",
   "mimetype": "text/x-python",
   "name": "python",
   "nbconvert_exporter": "python",
   "pygments_lexer": "ipython3",
   "version": "3.11.9"
  }
 },
 "nbformat": 4,
 "nbformat_minor": 5
}
